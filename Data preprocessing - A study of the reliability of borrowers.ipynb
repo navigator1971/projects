{
 "cells": [
  {
   "cell_type": "markdown",
   "id": "82e19298",
   "metadata": {},
   "source": [
    "<div style=\"border:solid Purple 2px; padding: 40px\">\n",
    "\n",
    "<b>Привет, Валерий!👋\n",
    "\n",
    "Меня зовут Эльвира, я буду ревьюером твоего проекта. Предлагаю общаться на «ты», но если это не удобно - дай мне знать, и мы перейдем на «вы».\n",
    "\n",
    "\n",
    "Ты можешь найти мои комментарии, обозначенные <font color='green'>зеленым</font>, <font color='gold'>желтым</font> и <font color='red'>красным</font> цветами, например:\n",
    "\n",
    "\n",
    "<div class=\"alert alert-success\">\n",
    "<h2> Комментарий ревьюера 😊<a class=\"tocSkip\"> </h2>\n",
    "    \n",
    "Такими комментариями я буду помечать отлично проделаную работу😉\n",
    "</div>\n",
    "    \n",
    "<div class=\"alert alert-warning\">\n",
    "<h2> Комментарий ревьюера 🤓<a class=\"tocSkip\"> </h2>\n",
    "        \n",
    "В таких комментариях я постараюсь подсказать тебе более элегантное или легкое решение, некоторые хитрости и фишки. Части проекта, помеченные такими комментариями, можно не исправлять, но рекомендую обратить на них внимание.</div>\n",
    "\n",
    "<div class=\"alert alert-block alert-danger\">\n",
    "<h2> Комментарий ревьюера ⛔️<a class=\"tocSkip\"></h2>\n",
    "    \n",
    "В случае, когда решение на отдельном шаге требует существенной переработки и внесения правок. Если ты видишь такой комментарий, значит здесть есть недочет, который следует исправить.\n",
    "</div>\n",
    "\n",
    "Ты также можешь реагировать на мои комментарии своими, выделяя их цветами и наиболее понравившимся тебе способом оформления, но явно  отличающимся от моих комментариев. Это нужно, чтобы не создавалась путаница🙃\n",
    "    \n",
    "`<div class=\"alert alert-info\"> <b>Комментарий студента:</b> Например, вот так.</div>`\n",
    "\n",
    "Чтобы сделать подобный блок, кликни здесь дважды и скопируй всю предыдущую строку ;)\n",
    "    \n",
    "Пожалуйста, не удаляй и не перемещай мои комментарии, они будут особенно полезны для нашей работы в случае повторной проверки проекта.</div></b>"
   ]
  },
  {
   "cell_type": "markdown",
   "id": "386f2ae7",
   "metadata": {
    "deletable": false,
    "editable": false,
    "id": "386f2ae7"
   },
   "source": [
    "# Исследование надежности заемщиков\n"
   ]
  },
  {
   "cell_type": "markdown",
   "id": "31679725",
   "metadata": {},
   "source": [
    "<div class=\"alert alert-warning\">\n",
    "<h2> Комментарий ревьюера 🤓<a class=\"tocSkip\"> </h2>\n",
    "\n",
    "Введение, как и общий вывод - важные части твоей работы, на которые в первую очередь обращает внимание заказчик. Введение станет лучше, если ты добавишь в него:\n",
    "* заголовок,\n",
    "\n",
    "* краткое описание проекта,\n",
    "\n",
    "* выделим цель проекта\n",
    "\n",
    "* описание данных\n",
    "\n",
    "* краткий план работы, выделим основные этапы, которые должны сделать.\n",
    "\n",
    "Тогда получатель отчета сможет быстрей его понять.\n",
    "\n",
    "</div>"
   ]
  },
  {
   "cell_type": "markdown",
   "id": "ffe86f65",
   "metadata": {
    "deletable": false,
    "editable": false,
    "id": "ffe86f65"
   },
   "source": [
    "Во второй части проекта вы выполните шаги 3 и 4. Их вручную проверит ревьюер.\n",
    "Чтобы вам не пришлось писать код заново для шагов 1 и 2, мы добавили авторские решения в ячейки с кодом. \n",
    "\n"
   ]
  },
  {
   "cell_type": "markdown",
   "id": "26613308",
   "metadata": {
    "deletable": false,
    "editable": false,
    "id": "26613308"
   },
   "source": [
    "## Откройте таблицу и изучите общую информацию о данных"
   ]
  },
  {
   "cell_type": "markdown",
   "id": "3c9f838e",
   "metadata": {
    "deletable": false,
    "editable": false,
    "id": "3c9f838e"
   },
   "source": [
    "**Задание 1. Импортируйте библиотеку pandas. Считайте данные из csv-файла в датафрейм и сохраните в переменную `data`. Путь к файлу:**\n",
    "\n",
    "`/datasets/data.csv`"
   ]
  },
  {
   "cell_type": "code",
   "execution_count": 1,
   "id": "77a68a90",
   "metadata": {
    "deletable": false,
    "id": "77a68a90"
   },
   "outputs": [],
   "source": [
    "import pandas as pd\n",
    "\n",
    "try:\n",
    "    data = pd.read_csv('/datasets/data.csv')\n",
    "except:\n",
    "    data = pd.read_csv('https://code.s3.yandex.net/datasets/data.csv')"
   ]
  },
  {
   "cell_type": "markdown",
   "id": "45365635",
   "metadata": {
    "deletable": false,
    "editable": false,
    "id": "45365635"
   },
   "source": [
    "**Задание 2. Выведите первые 20 строчек датафрейма `data` на экран.**"
   ]
  },
  {
   "cell_type": "code",
   "execution_count": 2,
   "id": "b0451a9a",
   "metadata": {
    "deletable": false,
    "id": "b0451a9a",
    "outputId": "1a8f3ef2-d323-4ec2-ddf7-89670b5944c4"
   },
   "outputs": [
    {
     "data": {
      "text/html": [
       "<div>\n",
       "<style scoped>\n",
       "    .dataframe tbody tr th:only-of-type {\n",
       "        vertical-align: middle;\n",
       "    }\n",
       "\n",
       "    .dataframe tbody tr th {\n",
       "        vertical-align: top;\n",
       "    }\n",
       "\n",
       "    .dataframe thead th {\n",
       "        text-align: right;\n",
       "    }\n",
       "</style>\n",
       "<table border=\"1\" class=\"dataframe\">\n",
       "  <thead>\n",
       "    <tr style=\"text-align: right;\">\n",
       "      <th></th>\n",
       "      <th>children</th>\n",
       "      <th>days_employed</th>\n",
       "      <th>dob_years</th>\n",
       "      <th>education</th>\n",
       "      <th>education_id</th>\n",
       "      <th>family_status</th>\n",
       "      <th>family_status_id</th>\n",
       "      <th>gender</th>\n",
       "      <th>income_type</th>\n",
       "      <th>debt</th>\n",
       "      <th>total_income</th>\n",
       "      <th>purpose</th>\n",
       "    </tr>\n",
       "  </thead>\n",
       "  <tbody>\n",
       "    <tr>\n",
       "      <th>0</th>\n",
       "      <td>1</td>\n",
       "      <td>-8437.673028</td>\n",
       "      <td>42</td>\n",
       "      <td>высшее</td>\n",
       "      <td>0</td>\n",
       "      <td>женат / замужем</td>\n",
       "      <td>0</td>\n",
       "      <td>F</td>\n",
       "      <td>сотрудник</td>\n",
       "      <td>0</td>\n",
       "      <td>253875.639453</td>\n",
       "      <td>покупка жилья</td>\n",
       "    </tr>\n",
       "    <tr>\n",
       "      <th>1</th>\n",
       "      <td>1</td>\n",
       "      <td>-4024.803754</td>\n",
       "      <td>36</td>\n",
       "      <td>среднее</td>\n",
       "      <td>1</td>\n",
       "      <td>женат / замужем</td>\n",
       "      <td>0</td>\n",
       "      <td>F</td>\n",
       "      <td>сотрудник</td>\n",
       "      <td>0</td>\n",
       "      <td>112080.014102</td>\n",
       "      <td>приобретение автомобиля</td>\n",
       "    </tr>\n",
       "    <tr>\n",
       "      <th>2</th>\n",
       "      <td>0</td>\n",
       "      <td>-5623.422610</td>\n",
       "      <td>33</td>\n",
       "      <td>Среднее</td>\n",
       "      <td>1</td>\n",
       "      <td>женат / замужем</td>\n",
       "      <td>0</td>\n",
       "      <td>M</td>\n",
       "      <td>сотрудник</td>\n",
       "      <td>0</td>\n",
       "      <td>145885.952297</td>\n",
       "      <td>покупка жилья</td>\n",
       "    </tr>\n",
       "    <tr>\n",
       "      <th>3</th>\n",
       "      <td>3</td>\n",
       "      <td>-4124.747207</td>\n",
       "      <td>32</td>\n",
       "      <td>среднее</td>\n",
       "      <td>1</td>\n",
       "      <td>женат / замужем</td>\n",
       "      <td>0</td>\n",
       "      <td>M</td>\n",
       "      <td>сотрудник</td>\n",
       "      <td>0</td>\n",
       "      <td>267628.550329</td>\n",
       "      <td>дополнительное образование</td>\n",
       "    </tr>\n",
       "    <tr>\n",
       "      <th>4</th>\n",
       "      <td>0</td>\n",
       "      <td>340266.072047</td>\n",
       "      <td>53</td>\n",
       "      <td>среднее</td>\n",
       "      <td>1</td>\n",
       "      <td>гражданский брак</td>\n",
       "      <td>1</td>\n",
       "      <td>F</td>\n",
       "      <td>пенсионер</td>\n",
       "      <td>0</td>\n",
       "      <td>158616.077870</td>\n",
       "      <td>сыграть свадьбу</td>\n",
       "    </tr>\n",
       "    <tr>\n",
       "      <th>5</th>\n",
       "      <td>0</td>\n",
       "      <td>-926.185831</td>\n",
       "      <td>27</td>\n",
       "      <td>высшее</td>\n",
       "      <td>0</td>\n",
       "      <td>гражданский брак</td>\n",
       "      <td>1</td>\n",
       "      <td>M</td>\n",
       "      <td>компаньон</td>\n",
       "      <td>0</td>\n",
       "      <td>255763.565419</td>\n",
       "      <td>покупка жилья</td>\n",
       "    </tr>\n",
       "    <tr>\n",
       "      <th>6</th>\n",
       "      <td>0</td>\n",
       "      <td>-2879.202052</td>\n",
       "      <td>43</td>\n",
       "      <td>высшее</td>\n",
       "      <td>0</td>\n",
       "      <td>женат / замужем</td>\n",
       "      <td>0</td>\n",
       "      <td>F</td>\n",
       "      <td>компаньон</td>\n",
       "      <td>0</td>\n",
       "      <td>240525.971920</td>\n",
       "      <td>операции с жильем</td>\n",
       "    </tr>\n",
       "    <tr>\n",
       "      <th>7</th>\n",
       "      <td>0</td>\n",
       "      <td>-152.779569</td>\n",
       "      <td>50</td>\n",
       "      <td>СРЕДНЕЕ</td>\n",
       "      <td>1</td>\n",
       "      <td>женат / замужем</td>\n",
       "      <td>0</td>\n",
       "      <td>M</td>\n",
       "      <td>сотрудник</td>\n",
       "      <td>0</td>\n",
       "      <td>135823.934197</td>\n",
       "      <td>образование</td>\n",
       "    </tr>\n",
       "    <tr>\n",
       "      <th>8</th>\n",
       "      <td>2</td>\n",
       "      <td>-6929.865299</td>\n",
       "      <td>35</td>\n",
       "      <td>ВЫСШЕЕ</td>\n",
       "      <td>0</td>\n",
       "      <td>гражданский брак</td>\n",
       "      <td>1</td>\n",
       "      <td>F</td>\n",
       "      <td>сотрудник</td>\n",
       "      <td>0</td>\n",
       "      <td>95856.832424</td>\n",
       "      <td>на проведение свадьбы</td>\n",
       "    </tr>\n",
       "    <tr>\n",
       "      <th>9</th>\n",
       "      <td>0</td>\n",
       "      <td>-2188.756445</td>\n",
       "      <td>41</td>\n",
       "      <td>среднее</td>\n",
       "      <td>1</td>\n",
       "      <td>женат / замужем</td>\n",
       "      <td>0</td>\n",
       "      <td>M</td>\n",
       "      <td>сотрудник</td>\n",
       "      <td>0</td>\n",
       "      <td>144425.938277</td>\n",
       "      <td>покупка жилья для семьи</td>\n",
       "    </tr>\n",
       "    <tr>\n",
       "      <th>10</th>\n",
       "      <td>2</td>\n",
       "      <td>-4171.483647</td>\n",
       "      <td>36</td>\n",
       "      <td>высшее</td>\n",
       "      <td>0</td>\n",
       "      <td>женат / замужем</td>\n",
       "      <td>0</td>\n",
       "      <td>M</td>\n",
       "      <td>компаньон</td>\n",
       "      <td>0</td>\n",
       "      <td>113943.491460</td>\n",
       "      <td>покупка недвижимости</td>\n",
       "    </tr>\n",
       "    <tr>\n",
       "      <th>11</th>\n",
       "      <td>0</td>\n",
       "      <td>-792.701887</td>\n",
       "      <td>40</td>\n",
       "      <td>среднее</td>\n",
       "      <td>1</td>\n",
       "      <td>женат / замужем</td>\n",
       "      <td>0</td>\n",
       "      <td>F</td>\n",
       "      <td>сотрудник</td>\n",
       "      <td>0</td>\n",
       "      <td>77069.234271</td>\n",
       "      <td>покупка коммерческой недвижимости</td>\n",
       "    </tr>\n",
       "    <tr>\n",
       "      <th>12</th>\n",
       "      <td>0</td>\n",
       "      <td>NaN</td>\n",
       "      <td>65</td>\n",
       "      <td>среднее</td>\n",
       "      <td>1</td>\n",
       "      <td>гражданский брак</td>\n",
       "      <td>1</td>\n",
       "      <td>M</td>\n",
       "      <td>пенсионер</td>\n",
       "      <td>0</td>\n",
       "      <td>NaN</td>\n",
       "      <td>сыграть свадьбу</td>\n",
       "    </tr>\n",
       "    <tr>\n",
       "      <th>13</th>\n",
       "      <td>0</td>\n",
       "      <td>-1846.641941</td>\n",
       "      <td>54</td>\n",
       "      <td>неоконченное высшее</td>\n",
       "      <td>2</td>\n",
       "      <td>женат / замужем</td>\n",
       "      <td>0</td>\n",
       "      <td>F</td>\n",
       "      <td>сотрудник</td>\n",
       "      <td>0</td>\n",
       "      <td>130458.228857</td>\n",
       "      <td>приобретение автомобиля</td>\n",
       "    </tr>\n",
       "    <tr>\n",
       "      <th>14</th>\n",
       "      <td>0</td>\n",
       "      <td>-1844.956182</td>\n",
       "      <td>56</td>\n",
       "      <td>высшее</td>\n",
       "      <td>0</td>\n",
       "      <td>гражданский брак</td>\n",
       "      <td>1</td>\n",
       "      <td>F</td>\n",
       "      <td>компаньон</td>\n",
       "      <td>1</td>\n",
       "      <td>165127.911772</td>\n",
       "      <td>покупка жилой недвижимости</td>\n",
       "    </tr>\n",
       "    <tr>\n",
       "      <th>15</th>\n",
       "      <td>1</td>\n",
       "      <td>-972.364419</td>\n",
       "      <td>26</td>\n",
       "      <td>среднее</td>\n",
       "      <td>1</td>\n",
       "      <td>женат / замужем</td>\n",
       "      <td>0</td>\n",
       "      <td>F</td>\n",
       "      <td>сотрудник</td>\n",
       "      <td>0</td>\n",
       "      <td>116820.904450</td>\n",
       "      <td>строительство собственной недвижимости</td>\n",
       "    </tr>\n",
       "    <tr>\n",
       "      <th>16</th>\n",
       "      <td>0</td>\n",
       "      <td>-1719.934226</td>\n",
       "      <td>35</td>\n",
       "      <td>среднее</td>\n",
       "      <td>1</td>\n",
       "      <td>женат / замужем</td>\n",
       "      <td>0</td>\n",
       "      <td>F</td>\n",
       "      <td>сотрудник</td>\n",
       "      <td>0</td>\n",
       "      <td>289202.704229</td>\n",
       "      <td>недвижимость</td>\n",
       "    </tr>\n",
       "    <tr>\n",
       "      <th>17</th>\n",
       "      <td>0</td>\n",
       "      <td>-2369.999720</td>\n",
       "      <td>33</td>\n",
       "      <td>высшее</td>\n",
       "      <td>0</td>\n",
       "      <td>гражданский брак</td>\n",
       "      <td>1</td>\n",
       "      <td>M</td>\n",
       "      <td>сотрудник</td>\n",
       "      <td>0</td>\n",
       "      <td>90410.586745</td>\n",
       "      <td>строительство недвижимости</td>\n",
       "    </tr>\n",
       "    <tr>\n",
       "      <th>18</th>\n",
       "      <td>0</td>\n",
       "      <td>400281.136913</td>\n",
       "      <td>53</td>\n",
       "      <td>среднее</td>\n",
       "      <td>1</td>\n",
       "      <td>вдовец / вдова</td>\n",
       "      <td>2</td>\n",
       "      <td>F</td>\n",
       "      <td>пенсионер</td>\n",
       "      <td>0</td>\n",
       "      <td>56823.777243</td>\n",
       "      <td>на покупку подержанного автомобиля</td>\n",
       "    </tr>\n",
       "    <tr>\n",
       "      <th>19</th>\n",
       "      <td>0</td>\n",
       "      <td>-10038.818549</td>\n",
       "      <td>48</td>\n",
       "      <td>СРЕДНЕЕ</td>\n",
       "      <td>1</td>\n",
       "      <td>в разводе</td>\n",
       "      <td>3</td>\n",
       "      <td>F</td>\n",
       "      <td>сотрудник</td>\n",
       "      <td>0</td>\n",
       "      <td>242831.107982</td>\n",
       "      <td>на покупку своего автомобиля</td>\n",
       "    </tr>\n",
       "  </tbody>\n",
       "</table>\n",
       "</div>"
      ],
      "text/plain": [
       "    children  days_employed  dob_years            education  education_id  \\\n",
       "0          1   -8437.673028         42               высшее             0   \n",
       "1          1   -4024.803754         36              среднее             1   \n",
       "2          0   -5623.422610         33              Среднее             1   \n",
       "3          3   -4124.747207         32              среднее             1   \n",
       "4          0  340266.072047         53              среднее             1   \n",
       "5          0    -926.185831         27               высшее             0   \n",
       "6          0   -2879.202052         43               высшее             0   \n",
       "7          0    -152.779569         50              СРЕДНЕЕ             1   \n",
       "8          2   -6929.865299         35               ВЫСШЕЕ             0   \n",
       "9          0   -2188.756445         41              среднее             1   \n",
       "10         2   -4171.483647         36               высшее             0   \n",
       "11         0    -792.701887         40              среднее             1   \n",
       "12         0            NaN         65              среднее             1   \n",
       "13         0   -1846.641941         54  неоконченное высшее             2   \n",
       "14         0   -1844.956182         56               высшее             0   \n",
       "15         1    -972.364419         26              среднее             1   \n",
       "16         0   -1719.934226         35              среднее             1   \n",
       "17         0   -2369.999720         33               высшее             0   \n",
       "18         0  400281.136913         53              среднее             1   \n",
       "19         0  -10038.818549         48              СРЕДНЕЕ             1   \n",
       "\n",
       "       family_status  family_status_id gender income_type  debt  \\\n",
       "0    женат / замужем                 0      F   сотрудник     0   \n",
       "1    женат / замужем                 0      F   сотрудник     0   \n",
       "2    женат / замужем                 0      M   сотрудник     0   \n",
       "3    женат / замужем                 0      M   сотрудник     0   \n",
       "4   гражданский брак                 1      F   пенсионер     0   \n",
       "5   гражданский брак                 1      M   компаньон     0   \n",
       "6    женат / замужем                 0      F   компаньон     0   \n",
       "7    женат / замужем                 0      M   сотрудник     0   \n",
       "8   гражданский брак                 1      F   сотрудник     0   \n",
       "9    женат / замужем                 0      M   сотрудник     0   \n",
       "10   женат / замужем                 0      M   компаньон     0   \n",
       "11   женат / замужем                 0      F   сотрудник     0   \n",
       "12  гражданский брак                 1      M   пенсионер     0   \n",
       "13   женат / замужем                 0      F   сотрудник     0   \n",
       "14  гражданский брак                 1      F   компаньон     1   \n",
       "15   женат / замужем                 0      F   сотрудник     0   \n",
       "16   женат / замужем                 0      F   сотрудник     0   \n",
       "17  гражданский брак                 1      M   сотрудник     0   \n",
       "18    вдовец / вдова                 2      F   пенсионер     0   \n",
       "19         в разводе                 3      F   сотрудник     0   \n",
       "\n",
       "     total_income                                 purpose  \n",
       "0   253875.639453                           покупка жилья  \n",
       "1   112080.014102                 приобретение автомобиля  \n",
       "2   145885.952297                           покупка жилья  \n",
       "3   267628.550329              дополнительное образование  \n",
       "4   158616.077870                         сыграть свадьбу  \n",
       "5   255763.565419                           покупка жилья  \n",
       "6   240525.971920                       операции с жильем  \n",
       "7   135823.934197                             образование  \n",
       "8    95856.832424                   на проведение свадьбы  \n",
       "9   144425.938277                 покупка жилья для семьи  \n",
       "10  113943.491460                    покупка недвижимости  \n",
       "11   77069.234271       покупка коммерческой недвижимости  \n",
       "12            NaN                         сыграть свадьбу  \n",
       "13  130458.228857                 приобретение автомобиля  \n",
       "14  165127.911772              покупка жилой недвижимости  \n",
       "15  116820.904450  строительство собственной недвижимости  \n",
       "16  289202.704229                            недвижимость  \n",
       "17   90410.586745              строительство недвижимости  \n",
       "18   56823.777243      на покупку подержанного автомобиля  \n",
       "19  242831.107982            на покупку своего автомобиля  "
      ]
     },
     "execution_count": 2,
     "metadata": {},
     "output_type": "execute_result"
    }
   ],
   "source": [
    "data.head(20)"
   ]
  },
  {
   "cell_type": "markdown",
   "id": "0ed8f27f",
   "metadata": {
    "deletable": false,
    "editable": false,
    "id": "0ed8f27f"
   },
   "source": [
    "**Задание 3. Выведите основную информацию о датафрейме с помощью метода `info()`.**"
   ]
  },
  {
   "cell_type": "code",
   "execution_count": 3,
   "id": "ab3f863b",
   "metadata": {
    "deletable": false,
    "id": "ab3f863b",
    "outputId": "15376089-8dad-46c9-b520-c05248d43158"
   },
   "outputs": [
    {
     "name": "stdout",
     "output_type": "stream",
     "text": [
      "<class 'pandas.core.frame.DataFrame'>\n",
      "RangeIndex: 21525 entries, 0 to 21524\n",
      "Data columns (total 12 columns):\n",
      " #   Column            Non-Null Count  Dtype  \n",
      "---  ------            --------------  -----  \n",
      " 0   children          21525 non-null  int64  \n",
      " 1   days_employed     19351 non-null  float64\n",
      " 2   dob_years         21525 non-null  int64  \n",
      " 3   education         21525 non-null  object \n",
      " 4   education_id      21525 non-null  int64  \n",
      " 5   family_status     21525 non-null  object \n",
      " 6   family_status_id  21525 non-null  int64  \n",
      " 7   gender            21525 non-null  object \n",
      " 8   income_type       21525 non-null  object \n",
      " 9   debt              21525 non-null  int64  \n",
      " 10  total_income      19351 non-null  float64\n",
      " 11  purpose           21525 non-null  object \n",
      "dtypes: float64(2), int64(5), object(5)\n",
      "memory usage: 2.0+ MB\n"
     ]
    }
   ],
   "source": [
    "data.info()"
   ]
  },
  {
   "cell_type": "markdown",
   "id": "60e3e22d",
   "metadata": {
    "deletable": false,
    "editable": false,
    "id": "60e3e22d"
   },
   "source": [
    "## Предобработка данных"
   ]
  },
  {
   "cell_type": "markdown",
   "id": "03dc170c",
   "metadata": {
    "deletable": false,
    "editable": false,
    "id": "03dc170c"
   },
   "source": [
    "### Удаление пропусков"
   ]
  },
  {
   "cell_type": "markdown",
   "id": "a4f54eef",
   "metadata": {
    "deletable": false,
    "editable": false,
    "id": "a4f54eef"
   },
   "source": [
    "**Задание 4. Выведите количество пропущенных значений для каждого столбца. Используйте комбинацию двух методов.**"
   ]
  },
  {
   "cell_type": "code",
   "execution_count": 4,
   "id": "2dc372b2",
   "metadata": {
    "deletable": false,
    "id": "2dc372b2",
    "outputId": "81f4d817-781c-465c-ed15-91ce4446810d"
   },
   "outputs": [
    {
     "data": {
      "text/plain": [
       "children               0\n",
       "days_employed       2174\n",
       "dob_years              0\n",
       "education              0\n",
       "education_id           0\n",
       "family_status          0\n",
       "family_status_id       0\n",
       "gender                 0\n",
       "income_type            0\n",
       "debt                   0\n",
       "total_income        2174\n",
       "purpose                0\n",
       "dtype: int64"
      ]
     },
     "execution_count": 4,
     "metadata": {},
     "output_type": "execute_result"
    }
   ],
   "source": [
    "data.isna().sum()"
   ]
  },
  {
   "cell_type": "markdown",
   "id": "14f011b1",
   "metadata": {
    "deletable": false,
    "editable": false,
    "id": "14f011b1"
   },
   "source": [
    "**Задание 5. В двух столбцах есть пропущенные значения. Один из них — `days_employed`. Пропуски в этом столбце вы обработаете на следующем этапе. Другой столбец с пропущенными значениями — `total_income` — хранит данные о доходах. На сумму дохода сильнее всего влияет тип занятости, поэтому заполнить пропуски в этом столбце нужно медианным значением по каждому типу из столбца `income_type`. Например, у человека с типом занятости `сотрудник` пропуск в столбце `total_income` должен быть заполнен медианным доходом среди всех записей с тем же типом.**"
   ]
  },
  {
   "cell_type": "code",
   "execution_count": 5,
   "id": "bdabfb6e",
   "metadata": {
    "deletable": false,
    "id": "bdabfb6e"
   },
   "outputs": [],
   "source": [
    "for t in data['income_type'].unique():\n",
    "    data.loc[(data['income_type'] == t) & (data['total_income'].isna()), 'total_income'] = \\\n",
    "    data.loc[(data['income_type'] == t), 'total_income'].median()"
   ]
  },
  {
   "cell_type": "markdown",
   "id": "5be34059",
   "metadata": {
    "deletable": false,
    "editable": false,
    "id": "5be34059"
   },
   "source": [
    "### Обработка аномальных значений"
   ]
  },
  {
   "cell_type": "markdown",
   "id": "a87606cb",
   "metadata": {
    "deletable": false,
    "editable": false,
    "id": "a87606cb"
   },
   "source": [
    "**Задание 6. В данных могут встречаться артефакты (аномалии) — значения, которые не отражают действительность и появились по какой-то ошибке. таким артефактом будет отрицательное количество дней трудового стажа в столбце `days_employed`. Для реальных данных это нормально. Обработайте значения в этом столбце: замените все отрицательные значения положительными с помощью метода `abs()`.**"
   ]
  },
  {
   "cell_type": "code",
   "execution_count": 6,
   "id": "020c46cc",
   "metadata": {
    "deletable": false,
    "id": "020c46cc"
   },
   "outputs": [],
   "source": [
    "data['days_employed'] = data['days_employed'].abs()"
   ]
  },
  {
   "cell_type": "markdown",
   "id": "45538a3a",
   "metadata": {
    "deletable": false,
    "editable": false,
    "id": "45538a3a"
   },
   "source": [
    "**Задание 7. Для каждого типа занятости выведите медианное значение трудового стажа `days_employed` в днях.**"
   ]
  },
  {
   "cell_type": "code",
   "execution_count": 7,
   "id": "cd3e6328",
   "metadata": {
    "deletable": false,
    "id": "cd3e6328",
    "outputId": "801ef80e-522b-4668-f34e-565af7432bcf"
   },
   "outputs": [
    {
     "data": {
      "text/plain": [
       "income_type\n",
       "безработный        366413.652744\n",
       "в декрете            3296.759962\n",
       "госслужащий          2689.368353\n",
       "компаньон            1547.382223\n",
       "пенсионер          365213.306266\n",
       "предприниматель       520.848083\n",
       "сотрудник            1574.202821\n",
       "студент               578.751554\n",
       "Name: days_employed, dtype: float64"
      ]
     },
     "execution_count": 7,
     "metadata": {},
     "output_type": "execute_result"
    }
   ],
   "source": [
    "data.groupby('income_type')['days_employed'].agg('median')"
   ]
  },
  {
   "cell_type": "markdown",
   "id": "90c5f058",
   "metadata": {
    "deletable": false,
    "editable": false,
    "id": "90c5f058"
   },
   "source": [
    "У двух типов (безработные и пенсионеры) получатся аномально большие значения. Исправить такие значения сложно, поэтому оставьте их как есть."
   ]
  },
  {
   "cell_type": "markdown",
   "id": "9652e50d",
   "metadata": {
    "deletable": false,
    "editable": false,
    "id": "9652e50d"
   },
   "source": [
    "**Задание 8. Выведите перечень уникальных значений столбца `children`.**"
   ]
  },
  {
   "cell_type": "code",
   "execution_count": 8,
   "id": "dbb37b8e",
   "metadata": {
    "deletable": false,
    "id": "dbb37b8e",
    "outputId": "6975b15c-7f95-4697-d16d-a0c79b657b03"
   },
   "outputs": [
    {
     "data": {
      "text/plain": [
       "array([ 1,  0,  3,  2, -1,  4, 20,  5])"
      ]
     },
     "execution_count": 8,
     "metadata": {},
     "output_type": "execute_result"
    }
   ],
   "source": [
    "data['children'].unique()"
   ]
  },
  {
   "cell_type": "markdown",
   "id": "2b8b0715",
   "metadata": {
    "deletable": false,
    "editable": false,
    "id": "2b8b0715"
   },
   "source": [
    "**Задание 9. В столбце `children` есть два аномальных значения. Удалите строки, в которых встречаются такие аномальные значения из датафрейма `data`.**"
   ]
  },
  {
   "cell_type": "code",
   "execution_count": 9,
   "id": "20009df8",
   "metadata": {
    "deletable": false,
    "id": "20009df8"
   },
   "outputs": [],
   "source": [
    "data = data[(data['children'] != -1) & (data['children'] != 20)]"
   ]
  },
  {
   "cell_type": "markdown",
   "id": "8c6ac9f1",
   "metadata": {
    "deletable": false,
    "editable": false,
    "id": "8c6ac9f1"
   },
   "source": [
    "**Задание 10. Ещё раз выведите перечень уникальных значений столбца `children`, чтобы убедиться, что артефакты удалены.**"
   ]
  },
  {
   "cell_type": "code",
   "execution_count": 10,
   "id": "07337b81",
   "metadata": {
    "deletable": false,
    "id": "07337b81",
    "outputId": "b2097101-d49d-44d9-901b-32a65c9463d1"
   },
   "outputs": [
    {
     "data": {
      "text/plain": [
       "array([1, 0, 3, 2, 4, 5])"
      ]
     },
     "execution_count": 10,
     "metadata": {},
     "output_type": "execute_result"
    }
   ],
   "source": [
    "data['children'].unique()"
   ]
  },
  {
   "cell_type": "markdown",
   "id": "ee3f52d4",
   "metadata": {
    "deletable": false,
    "editable": false,
    "id": "ee3f52d4"
   },
   "source": [
    "### Удаление пропусков (продолжение)"
   ]
  },
  {
   "cell_type": "markdown",
   "id": "a700b0e4",
   "metadata": {
    "deletable": false,
    "editable": false,
    "id": "a700b0e4"
   },
   "source": [
    "**Задание 11. Заполните пропуски в столбце `days_employed` медианными значениями по каждого типа занятости `income_type`.**"
   ]
  },
  {
   "cell_type": "code",
   "execution_count": 11,
   "id": "61946b83",
   "metadata": {
    "deletable": false,
    "id": "61946b83"
   },
   "outputs": [],
   "source": [
    "for t in data['income_type'].unique():\n",
    "    data.loc[(data['income_type'] == t) & (data['days_employed'].isna()), 'days_employed'] = \\\n",
    "    data.loc[(data['income_type'] == t), 'days_employed'].median()"
   ]
  },
  {
   "cell_type": "markdown",
   "id": "550dcd9b",
   "metadata": {
    "deletable": false,
    "editable": false,
    "id": "550dcd9b"
   },
   "source": [
    "**Задание 12. Убедитесь, что все пропуски заполнены. Проверьте себя и ещё раз выведите количество пропущенных значений для каждого столбца с помощью двух методов.**"
   ]
  },
  {
   "cell_type": "code",
   "execution_count": 12,
   "id": "937c7014",
   "metadata": {
    "deletable": false,
    "id": "937c7014",
    "outputId": "8da1e4e1-358e-4e87-98c9-f261bce0a7b2"
   },
   "outputs": [
    {
     "data": {
      "text/plain": [
       "children            0\n",
       "days_employed       0\n",
       "dob_years           0\n",
       "education           0\n",
       "education_id        0\n",
       "family_status       0\n",
       "family_status_id    0\n",
       "gender              0\n",
       "income_type         0\n",
       "debt                0\n",
       "total_income        0\n",
       "purpose             0\n",
       "dtype: int64"
      ]
     },
     "execution_count": 12,
     "metadata": {},
     "output_type": "execute_result"
    }
   ],
   "source": [
    "data.isna().sum()"
   ]
  },
  {
   "cell_type": "markdown",
   "id": "d522e295",
   "metadata": {
    "deletable": false,
    "editable": false,
    "id": "d522e295"
   },
   "source": [
    "### Изменение типов данных"
   ]
  },
  {
   "cell_type": "markdown",
   "id": "c229c581",
   "metadata": {
    "deletable": false,
    "editable": false,
    "id": "c229c581"
   },
   "source": [
    "**Задание 13. Замените вещественный тип данных в столбце `total_income` на целочисленный с помощью метода `astype()`.**"
   ]
  },
  {
   "cell_type": "code",
   "execution_count": 13,
   "id": "31036462",
   "metadata": {
    "deletable": false,
    "id": "31036462"
   },
   "outputs": [],
   "source": [
    "data['total_income'] = data['total_income'].astype(int)"
   ]
  },
  {
   "cell_type": "markdown",
   "id": "b8e3d1d9",
   "metadata": {
    "deletable": false,
    "editable": false,
    "id": "b8e3d1d9"
   },
   "source": [
    "### Обработка дубликатов"
   ]
  },
  {
   "cell_type": "markdown",
   "id": "9be53c49",
   "metadata": {
    "deletable": false,
    "editable": false,
    "id": "9be53c49"
   },
   "source": [
    "**Задание 14. Обработайте неявные дубликаты в столбце `education`. В этом столбце есть одни и те же значения, но записанные по-разному: с использованием заглавных и строчных букв. Приведите их к нижнему регистру.**"
   ]
  },
  {
   "cell_type": "code",
   "execution_count": 14,
   "id": "d89e73e1",
   "metadata": {
    "deletable": false,
    "id": "d89e73e1"
   },
   "outputs": [],
   "source": [
    "data['education'] = data['education'].str.lower()"
   ]
  },
  {
   "cell_type": "markdown",
   "id": "01d4500e",
   "metadata": {
    "deletable": false,
    "editable": false,
    "id": "01d4500e"
   },
   "source": [
    "**Задание 15. Выведите на экран количество строк-дубликатов в данных. Если такие строки присутствуют, удалите их.**"
   ]
  },
  {
   "cell_type": "code",
   "execution_count": 15,
   "id": "e10efb23",
   "metadata": {
    "deletable": false,
    "id": "e10efb23",
    "outputId": "9684deba-1934-42d1-99e1-cda61740f822"
   },
   "outputs": [
    {
     "data": {
      "text/plain": [
       "71"
      ]
     },
     "execution_count": 15,
     "metadata": {},
     "output_type": "execute_result"
    }
   ],
   "source": [
    "data.duplicated().sum()"
   ]
  },
  {
   "cell_type": "code",
   "execution_count": 16,
   "id": "df853f20",
   "metadata": {
    "deletable": false,
    "id": "df853f20"
   },
   "outputs": [],
   "source": [
    "data = data.drop_duplicates()"
   ]
  },
  {
   "cell_type": "markdown",
   "id": "627be38f",
   "metadata": {
    "deletable": false,
    "editable": false,
    "id": "627be38f"
   },
   "source": [
    "### Категоризация данных"
   ]
  },
  {
   "cell_type": "markdown",
   "id": "4684c3e0",
   "metadata": {
    "deletable": false,
    "editable": false,
    "id": "4684c3e0"
   },
   "source": [
    "**Задание 16. На основании диапазонов, указанных ниже, создайте в датафрейме `data` столбец `total_income_category` с категориями:**\n",
    "\n",
    "- 0–30000 — `'E'`;\n",
    "- 30001–50000 — `'D'`;\n",
    "- 50001–200000 — `'C'`;\n",
    "- 200001–1000000 — `'B'`;\n",
    "- 1000001 и выше — `'A'`.\n",
    "\n",
    "\n",
    "**Например, кредитополучателю с доходом 25000 нужно назначить категорию `'E'`, а клиенту, получающему 235000, — `'B'`. Используйте собственную функцию с именем `categorize_income()` и метод `apply()`.**"
   ]
  },
  {
   "cell_type": "code",
   "execution_count": 17,
   "id": "78965238",
   "metadata": {
    "deletable": false,
    "id": "78965238"
   },
   "outputs": [],
   "source": [
    "def categorize_income(income):\n",
    "    try:\n",
    "        if 0 <= income <= 30000:\n",
    "            return 'E'\n",
    "        elif 30001 <= income <= 50000:\n",
    "            return 'D'\n",
    "        elif 50001 <= income <= 200000:\n",
    "            return 'C'\n",
    "        elif 200001 <= income <= 1000000:\n",
    "            return 'B'\n",
    "        elif income >= 1000001:\n",
    "            return 'A'\n",
    "    except:\n",
    "        pass"
   ]
  },
  {
   "cell_type": "code",
   "execution_count": 18,
   "id": "0980ada1",
   "metadata": {
    "deletable": false,
    "id": "0980ada1"
   },
   "outputs": [],
   "source": [
    "data['total_income_category'] = data['total_income'].apply(categorize_income)"
   ]
  },
  {
   "cell_type": "markdown",
   "id": "9917bba0",
   "metadata": {
    "deletable": false,
    "editable": false,
    "id": "9917bba0"
   },
   "source": [
    "**Задание 17. Выведите на экран перечень уникальных целей взятия кредита из столбца `purpose`.**"
   ]
  },
  {
   "cell_type": "code",
   "execution_count": 19,
   "id": "ee07b65e",
   "metadata": {
    "deletable": false,
    "id": "ee07b65e",
    "outputId": "673c12d9-7d7e-4ae0-9812-c622c89dd244"
   },
   "outputs": [
    {
     "data": {
      "text/plain": [
       "array(['покупка жилья', 'приобретение автомобиля',\n",
       "       'дополнительное образование', 'сыграть свадьбу',\n",
       "       'операции с жильем', 'образование', 'на проведение свадьбы',\n",
       "       'покупка жилья для семьи', 'покупка недвижимости',\n",
       "       'покупка коммерческой недвижимости', 'покупка жилой недвижимости',\n",
       "       'строительство собственной недвижимости', 'недвижимость',\n",
       "       'строительство недвижимости', 'на покупку подержанного автомобиля',\n",
       "       'на покупку своего автомобиля',\n",
       "       'операции с коммерческой недвижимостью',\n",
       "       'строительство жилой недвижимости', 'жилье',\n",
       "       'операции со своей недвижимостью', 'автомобили',\n",
       "       'заняться образованием', 'сделка с подержанным автомобилем',\n",
       "       'получение образования', 'автомобиль', 'свадьба',\n",
       "       'получение дополнительного образования', 'покупка своего жилья',\n",
       "       'операции с недвижимостью', 'получение высшего образования',\n",
       "       'свой автомобиль', 'сделка с автомобилем',\n",
       "       'профильное образование', 'высшее образование',\n",
       "       'покупка жилья для сдачи', 'на покупку автомобиля', 'ремонт жилью',\n",
       "       'заняться высшим образованием'], dtype=object)"
      ]
     },
     "execution_count": 19,
     "metadata": {},
     "output_type": "execute_result"
    }
   ],
   "source": [
    "data['purpose'].unique()"
   ]
  },
  {
   "cell_type": "markdown",
   "id": "52b79d56",
   "metadata": {
    "deletable": false,
    "editable": false,
    "id": "52b79d56"
   },
   "source": [
    "**Задание 18. Создайте функцию, которая на основании данных из столбца `purpose` сформирует новый столбец `purpose_category`, в который войдут следующие категории:**\n",
    "\n",
    "- `'операции с автомобилем'`,\n",
    "- `'операции с недвижимостью'`,\n",
    "- `'проведение свадьбы'`,\n",
    "- `'получение образования'`.\n",
    "\n",
    "**Например, если в столбце `purpose` находится подстрока `'на покупку автомобиля'`, то в столбце `purpose_category` должна появиться строка `'операции с автомобилем'`.**\n",
    "\n",
    "**Используйте собственную функцию с именем `categorize_purpose()` и метод `apply()`. Изучите данные в столбце `purpose` и определите, какие подстроки помогут вам правильно определить категорию.**"
   ]
  },
  {
   "cell_type": "code",
   "execution_count": 20,
   "id": "be41da5d",
   "metadata": {
    "deletable": false,
    "id": "be41da5d"
   },
   "outputs": [],
   "source": [
    "def categorize_purpose(row):\n",
    "    try:\n",
    "        if 'автом' in row:\n",
    "            return 'операции с автомобилем'\n",
    "        elif 'жил' in row or 'недвиж' in row:\n",
    "            return 'операции с недвижимостью'\n",
    "        elif 'свад' in row:\n",
    "            return 'проведение свадьбы'\n",
    "        elif 'образов' in row:\n",
    "            return 'получение образования'\n",
    "    except:\n",
    "        return 'нет категории'"
   ]
  },
  {
   "cell_type": "code",
   "execution_count": 21,
   "id": "94c4a19a",
   "metadata": {
    "deletable": false,
    "id": "94c4a19a"
   },
   "outputs": [],
   "source": [
    "data['purpose_category'] = data['purpose'].apply(categorize_purpose)"
   ]
  },
  {
   "cell_type": "markdown",
   "id": "3d596c34",
   "metadata": {
    "deletable": false,
    "editable": false,
    "id": "3d596c34"
   },
   "source": [
    "### Шаг 3. Исследуйте данные и ответьте на вопросы"
   ]
  },
  {
   "cell_type": "markdown",
   "id": "648db036",
   "metadata": {
    "deletable": false,
    "editable": false,
    "id": "648db036"
   },
   "source": [
    "#### 3.1 Есть ли зависимость между количеством детей и возвратом кредита в срок?"
   ]
  },
  {
   "cell_type": "code",
   "execution_count": 22,
   "id": "7fcff25e",
   "metadata": {
    "deletable": false,
    "id": "7fcff25e"
   },
   "outputs": [
    {
     "data": {
      "text/html": [
       "<div>\n",
       "<style scoped>\n",
       "    .dataframe tbody tr th:only-of-type {\n",
       "        vertical-align: middle;\n",
       "    }\n",
       "\n",
       "    .dataframe tbody tr th {\n",
       "        vertical-align: top;\n",
       "    }\n",
       "\n",
       "    .dataframe thead th {\n",
       "        text-align: right;\n",
       "    }\n",
       "</style>\n",
       "<table border=\"1\" class=\"dataframe\">\n",
       "  <thead>\n",
       "    <tr style=\"text-align: right;\">\n",
       "      <th></th>\n",
       "      <th></th>\n",
       "      <th>debt</th>\n",
       "    </tr>\n",
       "    <tr>\n",
       "      <th>children</th>\n",
       "      <th>debt</th>\n",
       "      <th></th>\n",
       "    </tr>\n",
       "  </thead>\n",
       "  <tbody>\n",
       "    <tr>\n",
       "      <th rowspan=\"2\" valign=\"top\">0</th>\n",
       "      <th>0</th>\n",
       "      <td>13028</td>\n",
       "    </tr>\n",
       "    <tr>\n",
       "      <th>1</th>\n",
       "      <td>1063</td>\n",
       "    </tr>\n",
       "    <tr>\n",
       "      <th rowspan=\"2\" valign=\"top\">1</th>\n",
       "      <th>0</th>\n",
       "      <td>4364</td>\n",
       "    </tr>\n",
       "    <tr>\n",
       "      <th>1</th>\n",
       "      <td>444</td>\n",
       "    </tr>\n",
       "    <tr>\n",
       "      <th rowspan=\"2\" valign=\"top\">2</th>\n",
       "      <th>0</th>\n",
       "      <td>1858</td>\n",
       "    </tr>\n",
       "    <tr>\n",
       "      <th>1</th>\n",
       "      <td>194</td>\n",
       "    </tr>\n",
       "    <tr>\n",
       "      <th rowspan=\"2\" valign=\"top\">3</th>\n",
       "      <th>0</th>\n",
       "      <td>303</td>\n",
       "    </tr>\n",
       "    <tr>\n",
       "      <th>1</th>\n",
       "      <td>27</td>\n",
       "    </tr>\n",
       "    <tr>\n",
       "      <th rowspan=\"2\" valign=\"top\">4</th>\n",
       "      <th>0</th>\n",
       "      <td>37</td>\n",
       "    </tr>\n",
       "    <tr>\n",
       "      <th>1</th>\n",
       "      <td>4</td>\n",
       "    </tr>\n",
       "    <tr>\n",
       "      <th>5</th>\n",
       "      <th>0</th>\n",
       "      <td>9</td>\n",
       "    </tr>\n",
       "  </tbody>\n",
       "</table>\n",
       "</div>"
      ],
      "text/plain": [
       "                debt\n",
       "children debt       \n",
       "0        0     13028\n",
       "         1      1063\n",
       "1        0      4364\n",
       "         1       444\n",
       "2        0      1858\n",
       "         1       194\n",
       "3        0       303\n",
       "         1        27\n",
       "4        0        37\n",
       "         1         4\n",
       "5        0         9"
      ]
     },
     "execution_count": 22,
     "metadata": {},
     "output_type": "execute_result"
    }
   ],
   "source": [
    "# Ваш код будет здесь. Вы можете создавать новые ячейки.\n",
    "data_children = data.groupby(['children', 'debt']).agg({'debt':'count'})\n",
    "data_children.head(15)"
   ]
  },
  {
   "cell_type": "markdown",
   "id": "4c23bcd2",
   "metadata": {},
   "source": [
    "<div class=\"alert alert-success\">\n",
    "<h2> Комментарий ревьюера 😊<a class=\"tocSkip\"> </h2>\n",
    "\n",
    "Хорошая работа с таблицей)"
   ]
  },
  {
   "cell_type": "code",
   "execution_count": 23,
   "id": "90521ece",
   "metadata": {},
   "outputs": [
    {
     "data": {
      "text/html": [
       "<div>\n",
       "<style scoped>\n",
       "    .dataframe tbody tr th:only-of-type {\n",
       "        vertical-align: middle;\n",
       "    }\n",
       "\n",
       "    .dataframe tbody tr th {\n",
       "        vertical-align: top;\n",
       "    }\n",
       "\n",
       "    .dataframe thead tr th {\n",
       "        text-align: left;\n",
       "    }\n",
       "\n",
       "    .dataframe thead tr:last-of-type th {\n",
       "        text-align: right;\n",
       "    }\n",
       "</style>\n",
       "<table border=\"1\" class=\"dataframe\">\n",
       "  <thead>\n",
       "    <tr>\n",
       "      <th></th>\n",
       "      <th>count</th>\n",
       "      <th>sum</th>\n",
       "      <th>mean</th>\n",
       "    </tr>\n",
       "    <tr>\n",
       "      <th></th>\n",
       "      <th>debt</th>\n",
       "      <th>debt</th>\n",
       "      <th>debt</th>\n",
       "    </tr>\n",
       "    <tr>\n",
       "      <th>children</th>\n",
       "      <th></th>\n",
       "      <th></th>\n",
       "      <th></th>\n",
       "    </tr>\n",
       "  </thead>\n",
       "  <tbody>\n",
       "    <tr>\n",
       "      <th>0</th>\n",
       "      <td>14091</td>\n",
       "      <td>1063</td>\n",
       "      <td>0.075438</td>\n",
       "    </tr>\n",
       "    <tr>\n",
       "      <th>1</th>\n",
       "      <td>4808</td>\n",
       "      <td>444</td>\n",
       "      <td>0.092346</td>\n",
       "    </tr>\n",
       "    <tr>\n",
       "      <th>2</th>\n",
       "      <td>2052</td>\n",
       "      <td>194</td>\n",
       "      <td>0.094542</td>\n",
       "    </tr>\n",
       "    <tr>\n",
       "      <th>3</th>\n",
       "      <td>330</td>\n",
       "      <td>27</td>\n",
       "      <td>0.081818</td>\n",
       "    </tr>\n",
       "    <tr>\n",
       "      <th>4</th>\n",
       "      <td>41</td>\n",
       "      <td>4</td>\n",
       "      <td>0.097561</td>\n",
       "    </tr>\n",
       "    <tr>\n",
       "      <th>5</th>\n",
       "      <td>9</td>\n",
       "      <td>0</td>\n",
       "      <td>0.000000</td>\n",
       "    </tr>\n",
       "  </tbody>\n",
       "</table>\n",
       "</div>"
      ],
      "text/plain": [
       "          count   sum      mean\n",
       "           debt  debt      debt\n",
       "children                       \n",
       "0         14091  1063  0.075438\n",
       "1          4808   444  0.092346\n",
       "2          2052   194  0.094542\n",
       "3           330    27  0.081818\n",
       "4            41     4  0.097561\n",
       "5             9     0  0.000000"
      ]
     },
     "execution_count": 23,
     "metadata": {},
     "output_type": "execute_result"
    }
   ],
   "source": [
    "children_data_grouping = data.pivot_table(index=['children'], values=['debt'],\\\n",
    "                                          aggfunc=['count', 'sum', 'mean'])\n",
    "children_data_grouping"
   ]
  },
  {
   "cell_type": "markdown",
   "id": "73364836",
   "metadata": {},
   "source": [
    "<div class=\"alert alert-block alert-danger\">\n",
    "<h2> Комментарий ревьюера ⛔️<a class=\"tocSkip\"></h2>\n",
    "<s>\n",
    "Расчет проведен неверно, сейчас мы считаем значения поля 'gender'. А нам нужно производить расчеты по столбцу 'debt'. Чтобы вывести только должников можно использовать сумму в aggfunc (aggfunc=['count','sum',...])  и среднее для расчета доли должников."
   ]
  },
  {
   "cell_type": "code",
   "execution_count": 24,
   "id": "5442f64b",
   "metadata": {},
   "outputs": [
    {
     "data": {
      "text/html": [
       "<div>\n",
       "<style scoped>\n",
       "    .dataframe tbody tr th:only-of-type {\n",
       "        vertical-align: middle;\n",
       "    }\n",
       "\n",
       "    .dataframe tbody tr th {\n",
       "        vertical-align: top;\n",
       "    }\n",
       "\n",
       "    .dataframe thead tr th {\n",
       "        text-align: left;\n",
       "    }\n",
       "\n",
       "    .dataframe thead tr:last-of-type th {\n",
       "        text-align: right;\n",
       "    }\n",
       "</style>\n",
       "<table border=\"1\" class=\"dataframe\">\n",
       "  <thead>\n",
       "    <tr>\n",
       "      <th></th>\n",
       "      <th>count</th>\n",
       "      <th>sum</th>\n",
       "      <th>mean</th>\n",
       "      <th>coeff_non_return</th>\n",
       "    </tr>\n",
       "    <tr>\n",
       "      <th></th>\n",
       "      <th>debt</th>\n",
       "      <th>debt</th>\n",
       "      <th>debt</th>\n",
       "      <th></th>\n",
       "    </tr>\n",
       "    <tr>\n",
       "      <th>children</th>\n",
       "      <th></th>\n",
       "      <th></th>\n",
       "      <th></th>\n",
       "      <th></th>\n",
       "    </tr>\n",
       "  </thead>\n",
       "  <tbody>\n",
       "    <tr>\n",
       "      <th>0</th>\n",
       "      <td>14091</td>\n",
       "      <td>1063</td>\n",
       "      <td>0.075438</td>\n",
       "      <td>7.543822</td>\n",
       "    </tr>\n",
       "    <tr>\n",
       "      <th>1</th>\n",
       "      <td>4808</td>\n",
       "      <td>444</td>\n",
       "      <td>0.092346</td>\n",
       "      <td>9.234609</td>\n",
       "    </tr>\n",
       "    <tr>\n",
       "      <th>2</th>\n",
       "      <td>2052</td>\n",
       "      <td>194</td>\n",
       "      <td>0.094542</td>\n",
       "      <td>9.454191</td>\n",
       "    </tr>\n",
       "    <tr>\n",
       "      <th>3</th>\n",
       "      <td>330</td>\n",
       "      <td>27</td>\n",
       "      <td>0.081818</td>\n",
       "      <td>8.181818</td>\n",
       "    </tr>\n",
       "    <tr>\n",
       "      <th>4</th>\n",
       "      <td>41</td>\n",
       "      <td>4</td>\n",
       "      <td>0.097561</td>\n",
       "      <td>9.756098</td>\n",
       "    </tr>\n",
       "    <tr>\n",
       "      <th>5</th>\n",
       "      <td>9</td>\n",
       "      <td>0</td>\n",
       "      <td>0.000000</td>\n",
       "      <td>0.000000</td>\n",
       "    </tr>\n",
       "  </tbody>\n",
       "</table>\n",
       "</div>"
      ],
      "text/plain": [
       "          count   sum      mean coeff_non_return\n",
       "           debt  debt      debt                 \n",
       "children                                        \n",
       "0         14091  1063  0.075438         7.543822\n",
       "1          4808   444  0.092346         9.234609\n",
       "2          2052   194  0.094542         9.454191\n",
       "3           330    27  0.081818         8.181818\n",
       "4            41     4  0.097561         9.756098\n",
       "5             9     0  0.000000         0.000000"
      ]
     },
     "execution_count": 24,
     "metadata": {},
     "output_type": "execute_result"
    }
   ],
   "source": [
    "children_data_grouping['coeff_non_return'] = children_data_grouping['mean'] * 100\n",
    "children_data_grouping"
   ]
  },
  {
   "cell_type": "markdown",
   "id": "440e4a41",
   "metadata": {},
   "source": [
    "<div class=\"alert alert-success\">\n",
    "<h2> Комментарий ревьюера 😊 v_2<a class=\"tocSkip\"> </h2>\n",
    "\n",
    "Супер, теперь все верно, молодец)"
   ]
  },
  {
   "cell_type": "markdown",
   "id": "5ac03e97",
   "metadata": {},
   "source": [
    "<div class=\"alert alert-block alert-danger\">\n",
    "<h2> Комментарий ревьюера ⛔️<a class=\"tocSkip\"></h2>\n",
    "<s>\n",
    "Сейчас мы проводим расчет доли только от тех, кто возвращал вовремя. Чтобы рассчитать долю должников, нам нужно использовать общее кол-во заемщиков внутри категории, т.е. сумма тех, кто вернул вовремя и тех, кто остался должен. "
   ]
  },
  {
   "cell_type": "markdown",
   "id": "2eb9088e",
   "metadata": {
    "deletable": false,
    "id": "2eb9088e"
   },
   "source": [
    "<s>\n",
    "**Вывод:** \n",
    "В столбце \"count\" получаем общее кол-во заемщиков по каждой категории \"children\". В столбце \"sum\" получаем общее кол-во должников. Данные, полученные в столбце \"mean\", как отношение общего кол-ва должников среди всех заемщиков показывают по каждой категории, что чем выше доля должников, тем хуже возвращают кредит в данной категориии. Таким образом, возврат кредита среди всех категорий людей с детьми лучше, чем среди бездетных. При этом, среди категорий людей с детьми хуже всех возвращают кредиты люди с тремя детьми."
   ]
  },
  {
   "cell_type": "markdown",
   "id": "3d020a03",
   "metadata": {},
   "source": [
    "**!!!Вывод (версия-3):**\n",
    "В столбце \"count\" получаем общее кол-во заемщиков по каждой категории \"children\". В столбце \"sum\" получаем общее кол-во должников. Данные, полученные в столбце \"mean\", как отношение общего кол-ва должников среди всех заемщиков показывают по каждой категории, что чем выше доля должников, тем хуже возвращают кредит в данной категориии. Таким образом, возврат кредита среди бездетных лучше, чем среди всех категорий людей с детьми. При этом, среди категорий людей с детьми хуже всех возвращают кредиты люди с двумя и четрьмя детьми."
   ]
  },
  {
   "cell_type": "markdown",
   "id": "26ee02b1",
   "metadata": {},
   "source": [
    "<div class=\"alert alert-success\">\n",
    "<h2> Комментарий ревьюера 😊 v_3 <a class=\"tocSkip\"> </h2>\n",
    "\n",
    "Верно)"
   ]
  },
  {
   "cell_type": "markdown",
   "id": "8e88c097",
   "metadata": {},
   "source": [
    "<div class=\"alert alert-block alert-danger\">\n",
    "<h2> Комментарий ревьюера ⛔️ v_2 <a class=\"tocSkip\"></h2>\n",
    "<s>\n",
    "\"Таким образом, возврат кредита среди всех категорий людей с детьми лучше, чем среди бездетных.\" - но у бездетных доля должников самая низкая, как так?"
   ]
  },
  {
   "cell_type": "markdown",
   "id": "11ad7d29",
   "metadata": {},
   "source": [
    "<div class=\"alert alert-block alert-danger\">\n",
    "<h2> Комментарий ревьюера ⛔️<a class=\"tocSkip\"></h2>\n",
    "<s>\n",
    "Чем выше доля должников, тем хуже возвращают кредит в данной категориии. Нужно скорректировать вывод."
   ]
  },
  {
   "cell_type": "markdown",
   "id": "74c9b3a7",
   "metadata": {
    "deletable": false,
    "editable": false,
    "id": "74c9b3a7"
   },
   "source": [
    "#### 3.2 Есть ли зависимость между семейным положением и возвратом кредита в срок?"
   ]
  },
  {
   "cell_type": "code",
   "execution_count": 25,
   "id": "8098ab3b",
   "metadata": {
    "deletable": false,
    "id": "8098ab3b"
   },
   "outputs": [
    {
     "data": {
      "text/html": [
       "<div>\n",
       "<style scoped>\n",
       "    .dataframe tbody tr th:only-of-type {\n",
       "        vertical-align: middle;\n",
       "    }\n",
       "\n",
       "    .dataframe tbody tr th {\n",
       "        vertical-align: top;\n",
       "    }\n",
       "\n",
       "    .dataframe thead th {\n",
       "        text-align: right;\n",
       "    }\n",
       "</style>\n",
       "<table border=\"1\" class=\"dataframe\">\n",
       "  <thead>\n",
       "    <tr style=\"text-align: right;\">\n",
       "      <th></th>\n",
       "      <th></th>\n",
       "      <th>debt</th>\n",
       "    </tr>\n",
       "    <tr>\n",
       "      <th>family_status</th>\n",
       "      <th>debt</th>\n",
       "      <th></th>\n",
       "    </tr>\n",
       "  </thead>\n",
       "  <tbody>\n",
       "    <tr>\n",
       "      <th rowspan=\"2\" valign=\"top\">Не женат / не замужем</th>\n",
       "      <th>0</th>\n",
       "      <td>2523</td>\n",
       "    </tr>\n",
       "    <tr>\n",
       "      <th>1</th>\n",
       "      <td>273</td>\n",
       "    </tr>\n",
       "    <tr>\n",
       "      <th rowspan=\"2\" valign=\"top\">в разводе</th>\n",
       "      <th>0</th>\n",
       "      <td>1105</td>\n",
       "    </tr>\n",
       "    <tr>\n",
       "      <th>1</th>\n",
       "      <td>84</td>\n",
       "    </tr>\n",
       "    <tr>\n",
       "      <th rowspan=\"2\" valign=\"top\">вдовец / вдова</th>\n",
       "      <th>0</th>\n",
       "      <td>888</td>\n",
       "    </tr>\n",
       "    <tr>\n",
       "      <th>1</th>\n",
       "      <td>63</td>\n",
       "    </tr>\n",
       "    <tr>\n",
       "      <th rowspan=\"2\" valign=\"top\">гражданский брак</th>\n",
       "      <th>0</th>\n",
       "      <td>3749</td>\n",
       "    </tr>\n",
       "    <tr>\n",
       "      <th>1</th>\n",
       "      <td>385</td>\n",
       "    </tr>\n",
       "    <tr>\n",
       "      <th rowspan=\"2\" valign=\"top\">женат / замужем</th>\n",
       "      <th>0</th>\n",
       "      <td>11334</td>\n",
       "    </tr>\n",
       "    <tr>\n",
       "      <th>1</th>\n",
       "      <td>927</td>\n",
       "    </tr>\n",
       "  </tbody>\n",
       "</table>\n",
       "</div>"
      ],
      "text/plain": [
       "                             debt\n",
       "family_status         debt       \n",
       "Не женат / не замужем 0      2523\n",
       "                      1       273\n",
       "в разводе             0      1105\n",
       "                      1        84\n",
       "вдовец / вдова        0       888\n",
       "                      1        63\n",
       "гражданский брак      0      3749\n",
       "                      1       385\n",
       "женат / замужем       0     11334\n",
       "                      1       927"
      ]
     },
     "execution_count": 25,
     "metadata": {},
     "output_type": "execute_result"
    }
   ],
   "source": [
    "data_family_status = data.groupby(['family_status', 'debt']).agg({'debt':'count'})\n",
    "data_family_status.head(15)"
   ]
  },
  {
   "cell_type": "code",
   "execution_count": 26,
   "id": "b1bb1272",
   "metadata": {},
   "outputs": [
    {
     "data": {
      "text/html": [
       "<div>\n",
       "<style scoped>\n",
       "    .dataframe tbody tr th:only-of-type {\n",
       "        vertical-align: middle;\n",
       "    }\n",
       "\n",
       "    .dataframe tbody tr th {\n",
       "        vertical-align: top;\n",
       "    }\n",
       "\n",
       "    .dataframe thead tr th {\n",
       "        text-align: left;\n",
       "    }\n",
       "\n",
       "    .dataframe thead tr:last-of-type th {\n",
       "        text-align: right;\n",
       "    }\n",
       "</style>\n",
       "<table border=\"1\" class=\"dataframe\">\n",
       "  <thead>\n",
       "    <tr>\n",
       "      <th></th>\n",
       "      <th>count</th>\n",
       "      <th>sum</th>\n",
       "      <th>mean</th>\n",
       "    </tr>\n",
       "    <tr>\n",
       "      <th></th>\n",
       "      <th>debt</th>\n",
       "      <th>debt</th>\n",
       "      <th>debt</th>\n",
       "    </tr>\n",
       "    <tr>\n",
       "      <th>family_status</th>\n",
       "      <th></th>\n",
       "      <th></th>\n",
       "      <th></th>\n",
       "    </tr>\n",
       "  </thead>\n",
       "  <tbody>\n",
       "    <tr>\n",
       "      <th>Не женат / не замужем</th>\n",
       "      <td>2796</td>\n",
       "      <td>273</td>\n",
       "      <td>0.097639</td>\n",
       "    </tr>\n",
       "    <tr>\n",
       "      <th>в разводе</th>\n",
       "      <td>1189</td>\n",
       "      <td>84</td>\n",
       "      <td>0.070648</td>\n",
       "    </tr>\n",
       "    <tr>\n",
       "      <th>вдовец / вдова</th>\n",
       "      <td>951</td>\n",
       "      <td>63</td>\n",
       "      <td>0.066246</td>\n",
       "    </tr>\n",
       "    <tr>\n",
       "      <th>гражданский брак</th>\n",
       "      <td>4134</td>\n",
       "      <td>385</td>\n",
       "      <td>0.093130</td>\n",
       "    </tr>\n",
       "    <tr>\n",
       "      <th>женат / замужем</th>\n",
       "      <td>12261</td>\n",
       "      <td>927</td>\n",
       "      <td>0.075606</td>\n",
       "    </tr>\n",
       "  </tbody>\n",
       "</table>\n",
       "</div>"
      ],
      "text/plain": [
       "                       count  sum      mean\n",
       "                        debt debt      debt\n",
       "family_status                              \n",
       "Не женат / не замужем   2796  273  0.097639\n",
       "в разводе               1189   84  0.070648\n",
       "вдовец / вдова           951   63  0.066246\n",
       "гражданский брак        4134  385  0.093130\n",
       "женат / замужем        12261  927  0.075606"
      ]
     },
     "execution_count": 26,
     "metadata": {},
     "output_type": "execute_result"
    }
   ],
   "source": [
    "family_status_data_grouping = data.pivot_table(index=['family_status'], values='debt', aggfunc=['count', 'sum', 'mean'])\n",
    "family_status_data_grouping"
   ]
  },
  {
   "cell_type": "code",
   "execution_count": 27,
   "id": "a087aca8",
   "metadata": {},
   "outputs": [
    {
     "data": {
      "text/html": [
       "<div>\n",
       "<style scoped>\n",
       "    .dataframe tbody tr th:only-of-type {\n",
       "        vertical-align: middle;\n",
       "    }\n",
       "\n",
       "    .dataframe tbody tr th {\n",
       "        vertical-align: top;\n",
       "    }\n",
       "\n",
       "    .dataframe thead tr th {\n",
       "        text-align: left;\n",
       "    }\n",
       "\n",
       "    .dataframe thead tr:last-of-type th {\n",
       "        text-align: right;\n",
       "    }\n",
       "</style>\n",
       "<table border=\"1\" class=\"dataframe\">\n",
       "  <thead>\n",
       "    <tr>\n",
       "      <th></th>\n",
       "      <th>count</th>\n",
       "      <th>sum</th>\n",
       "      <th>mean</th>\n",
       "      <th>coeff_non_return</th>\n",
       "    </tr>\n",
       "    <tr>\n",
       "      <th></th>\n",
       "      <th>debt</th>\n",
       "      <th>debt</th>\n",
       "      <th>debt</th>\n",
       "      <th></th>\n",
       "    </tr>\n",
       "    <tr>\n",
       "      <th>family_status</th>\n",
       "      <th></th>\n",
       "      <th></th>\n",
       "      <th></th>\n",
       "      <th></th>\n",
       "    </tr>\n",
       "  </thead>\n",
       "  <tbody>\n",
       "    <tr>\n",
       "      <th>Не женат / не замужем</th>\n",
       "      <td>2796</td>\n",
       "      <td>273</td>\n",
       "      <td>0.097639</td>\n",
       "      <td>9.763948</td>\n",
       "    </tr>\n",
       "    <tr>\n",
       "      <th>в разводе</th>\n",
       "      <td>1189</td>\n",
       "      <td>84</td>\n",
       "      <td>0.070648</td>\n",
       "      <td>7.064760</td>\n",
       "    </tr>\n",
       "    <tr>\n",
       "      <th>вдовец / вдова</th>\n",
       "      <td>951</td>\n",
       "      <td>63</td>\n",
       "      <td>0.066246</td>\n",
       "      <td>6.624606</td>\n",
       "    </tr>\n",
       "    <tr>\n",
       "      <th>гражданский брак</th>\n",
       "      <td>4134</td>\n",
       "      <td>385</td>\n",
       "      <td>0.093130</td>\n",
       "      <td>9.313014</td>\n",
       "    </tr>\n",
       "    <tr>\n",
       "      <th>женат / замужем</th>\n",
       "      <td>12261</td>\n",
       "      <td>927</td>\n",
       "      <td>0.075606</td>\n",
       "      <td>7.560558</td>\n",
       "    </tr>\n",
       "  </tbody>\n",
       "</table>\n",
       "</div>"
      ],
      "text/plain": [
       "                       count  sum      mean coeff_non_return\n",
       "                        debt debt      debt                 \n",
       "family_status                                               \n",
       "Не женат / не замужем   2796  273  0.097639         9.763948\n",
       "в разводе               1189   84  0.070648         7.064760\n",
       "вдовец / вдова           951   63  0.066246         6.624606\n",
       "гражданский брак        4134  385  0.093130         9.313014\n",
       "женат / замужем        12261  927  0.075606         7.560558"
      ]
     },
     "execution_count": 27,
     "metadata": {},
     "output_type": "execute_result"
    }
   ],
   "source": [
    "family_status_data_grouping['coeff_non_return'] = family_status_data_grouping['mean'] * 100\n",
    "family_status_data_grouping"
   ]
  },
  {
   "cell_type": "markdown",
   "id": "c389ca63",
   "metadata": {
    "deletable": false,
    "id": "c389ca63"
   },
   "source": [
    "**Вывод:** В столбце \"count\" получаем общее кол-во заемщиков по категории \"family_status\". В столбце \"sum\" получаем общее кол-во должников. Данные, полученные в столбце \"mean\", как отношение общего кол-ва должников среди всех заемщиков показывают по каждой категории, что чем выше доля должников, тем хуже возвращают кредит в данной категориии. Таким образом, имеется явная зависимость возврата кредита от семейного положения заемщика. Люди, ранее имевшие семейные отношения и находящие в браке в настоящее время, являются наиболее предпочттельными клиентами по сравнению с не имевшими официальных семейных отношений."
   ]
  },
  {
   "cell_type": "markdown",
   "id": "9af7d7ba",
   "metadata": {},
   "source": [
    "<div class=\"alert alert-success\">\n",
    "<h2> Комментарий ревьюера 😊  v_2<a class=\"tocSkip\"> </h2>\n",
    "\n",
    "Верно, у не женатых и состоящх в гражданском браке  доля долдников выше, а значит они реже оплачивают кредит вовремя."
   ]
  },
  {
   "cell_type": "markdown",
   "id": "2b2abe55",
   "metadata": {},
   "source": [
    "<div class=\"alert alert-block alert-danger\">\n",
    "<h2> Комментарий ревьюера ⛔️<a class=\"tocSkip\"></h2>\n",
    "<s>\n",
    "Также нужно скорректировать расчеты в таблице и обновить выводы"
   ]
  },
  {
   "cell_type": "markdown",
   "id": "9529de68",
   "metadata": {
    "deletable": false,
    "editable": false,
    "id": "9529de68"
   },
   "source": [
    "#### 3.3 Есть ли зависимость между уровнем дохода и возвратом кредита в срок?"
   ]
  },
  {
   "cell_type": "code",
   "execution_count": 28,
   "id": "8787f44a",
   "metadata": {
    "deletable": false,
    "id": "8787f44a"
   },
   "outputs": [
    {
     "data": {
      "text/html": [
       "<div>\n",
       "<style scoped>\n",
       "    .dataframe tbody tr th:only-of-type {\n",
       "        vertical-align: middle;\n",
       "    }\n",
       "\n",
       "    .dataframe tbody tr th {\n",
       "        vertical-align: top;\n",
       "    }\n",
       "\n",
       "    .dataframe thead th {\n",
       "        text-align: right;\n",
       "    }\n",
       "</style>\n",
       "<table border=\"1\" class=\"dataframe\">\n",
       "  <thead>\n",
       "    <tr style=\"text-align: right;\">\n",
       "      <th></th>\n",
       "      <th></th>\n",
       "      <th>debt</th>\n",
       "    </tr>\n",
       "    <tr>\n",
       "      <th>total_income_category</th>\n",
       "      <th>debt</th>\n",
       "      <th></th>\n",
       "    </tr>\n",
       "  </thead>\n",
       "  <tbody>\n",
       "    <tr>\n",
       "      <th rowspan=\"2\" valign=\"top\">A</th>\n",
       "      <th>0</th>\n",
       "      <td>23</td>\n",
       "    </tr>\n",
       "    <tr>\n",
       "      <th>1</th>\n",
       "      <td>2</td>\n",
       "    </tr>\n",
       "    <tr>\n",
       "      <th rowspan=\"2\" valign=\"top\">B</th>\n",
       "      <th>0</th>\n",
       "      <td>4660</td>\n",
       "    </tr>\n",
       "    <tr>\n",
       "      <th>1</th>\n",
       "      <td>354</td>\n",
       "    </tr>\n",
       "    <tr>\n",
       "      <th rowspan=\"2\" valign=\"top\">C</th>\n",
       "      <th>0</th>\n",
       "      <td>14568</td>\n",
       "    </tr>\n",
       "    <tr>\n",
       "      <th>1</th>\n",
       "      <td>1353</td>\n",
       "    </tr>\n",
       "    <tr>\n",
       "      <th rowspan=\"2\" valign=\"top\">D</th>\n",
       "      <th>0</th>\n",
       "      <td>328</td>\n",
       "    </tr>\n",
       "    <tr>\n",
       "      <th>1</th>\n",
       "      <td>21</td>\n",
       "    </tr>\n",
       "    <tr>\n",
       "      <th rowspan=\"2\" valign=\"top\">E</th>\n",
       "      <th>0</th>\n",
       "      <td>20</td>\n",
       "    </tr>\n",
       "    <tr>\n",
       "      <th>1</th>\n",
       "      <td>2</td>\n",
       "    </tr>\n",
       "  </tbody>\n",
       "</table>\n",
       "</div>"
      ],
      "text/plain": [
       "                             debt\n",
       "total_income_category debt       \n",
       "A                     0        23\n",
       "                      1         2\n",
       "B                     0      4660\n",
       "                      1       354\n",
       "C                     0     14568\n",
       "                      1      1353\n",
       "D                     0       328\n",
       "                      1        21\n",
       "E                     0        20\n",
       "                      1         2"
      ]
     },
     "execution_count": 28,
     "metadata": {},
     "output_type": "execute_result"
    }
   ],
   "source": [
    "# Ваш код будет здесь. Вы можете создавать новые ячейки.\n",
    "data_income = data.groupby(['total_income_category', 'debt']).agg({'debt':'count'})\n",
    "data_income.head(20)"
   ]
  },
  {
   "cell_type": "code",
   "execution_count": 29,
   "id": "99eae5e5",
   "metadata": {},
   "outputs": [
    {
     "data": {
      "text/html": [
       "<div>\n",
       "<style scoped>\n",
       "    .dataframe tbody tr th:only-of-type {\n",
       "        vertical-align: middle;\n",
       "    }\n",
       "\n",
       "    .dataframe tbody tr th {\n",
       "        vertical-align: top;\n",
       "    }\n",
       "\n",
       "    .dataframe thead tr th {\n",
       "        text-align: left;\n",
       "    }\n",
       "\n",
       "    .dataframe thead tr:last-of-type th {\n",
       "        text-align: right;\n",
       "    }\n",
       "</style>\n",
       "<table border=\"1\" class=\"dataframe\">\n",
       "  <thead>\n",
       "    <tr>\n",
       "      <th></th>\n",
       "      <th>count</th>\n",
       "      <th>sum</th>\n",
       "      <th>mean</th>\n",
       "    </tr>\n",
       "    <tr>\n",
       "      <th></th>\n",
       "      <th>debt</th>\n",
       "      <th>debt</th>\n",
       "      <th>debt</th>\n",
       "    </tr>\n",
       "    <tr>\n",
       "      <th>total_income_category</th>\n",
       "      <th></th>\n",
       "      <th></th>\n",
       "      <th></th>\n",
       "    </tr>\n",
       "  </thead>\n",
       "  <tbody>\n",
       "    <tr>\n",
       "      <th>A</th>\n",
       "      <td>25</td>\n",
       "      <td>2</td>\n",
       "      <td>0.080000</td>\n",
       "    </tr>\n",
       "    <tr>\n",
       "      <th>B</th>\n",
       "      <td>5014</td>\n",
       "      <td>354</td>\n",
       "      <td>0.070602</td>\n",
       "    </tr>\n",
       "    <tr>\n",
       "      <th>C</th>\n",
       "      <td>15921</td>\n",
       "      <td>1353</td>\n",
       "      <td>0.084982</td>\n",
       "    </tr>\n",
       "    <tr>\n",
       "      <th>D</th>\n",
       "      <td>349</td>\n",
       "      <td>21</td>\n",
       "      <td>0.060172</td>\n",
       "    </tr>\n",
       "    <tr>\n",
       "      <th>E</th>\n",
       "      <td>22</td>\n",
       "      <td>2</td>\n",
       "      <td>0.090909</td>\n",
       "    </tr>\n",
       "  </tbody>\n",
       "</table>\n",
       "</div>"
      ],
      "text/plain": [
       "                       count   sum      mean\n",
       "                        debt  debt      debt\n",
       "total_income_category                       \n",
       "A                         25     2  0.080000\n",
       "B                       5014   354  0.070602\n",
       "C                      15921  1353  0.084982\n",
       "D                        349    21  0.060172\n",
       "E                         22     2  0.090909"
      ]
     },
     "execution_count": 29,
     "metadata": {},
     "output_type": "execute_result"
    }
   ],
   "source": [
    "income_data_grouping = data.pivot_table(index=['total_income_category'], values='debt', aggfunc=['count', 'sum', 'mean'])\n",
    "income_data_grouping"
   ]
  },
  {
   "cell_type": "code",
   "execution_count": 30,
   "id": "c90acfb3",
   "metadata": {},
   "outputs": [
    {
     "data": {
      "text/html": [
       "<div>\n",
       "<style scoped>\n",
       "    .dataframe tbody tr th:only-of-type {\n",
       "        vertical-align: middle;\n",
       "    }\n",
       "\n",
       "    .dataframe tbody tr th {\n",
       "        vertical-align: top;\n",
       "    }\n",
       "\n",
       "    .dataframe thead tr th {\n",
       "        text-align: left;\n",
       "    }\n",
       "\n",
       "    .dataframe thead tr:last-of-type th {\n",
       "        text-align: right;\n",
       "    }\n",
       "</style>\n",
       "<table border=\"1\" class=\"dataframe\">\n",
       "  <thead>\n",
       "    <tr>\n",
       "      <th></th>\n",
       "      <th>count</th>\n",
       "      <th>sum</th>\n",
       "      <th>mean</th>\n",
       "      <th>income_non_return</th>\n",
       "    </tr>\n",
       "    <tr>\n",
       "      <th></th>\n",
       "      <th>debt</th>\n",
       "      <th>debt</th>\n",
       "      <th>debt</th>\n",
       "      <th></th>\n",
       "    </tr>\n",
       "    <tr>\n",
       "      <th>total_income_category</th>\n",
       "      <th></th>\n",
       "      <th></th>\n",
       "      <th></th>\n",
       "      <th></th>\n",
       "    </tr>\n",
       "  </thead>\n",
       "  <tbody>\n",
       "    <tr>\n",
       "      <th>A</th>\n",
       "      <td>25</td>\n",
       "      <td>2</td>\n",
       "      <td>0.080000</td>\n",
       "      <td>8.000000</td>\n",
       "    </tr>\n",
       "    <tr>\n",
       "      <th>B</th>\n",
       "      <td>5014</td>\n",
       "      <td>354</td>\n",
       "      <td>0.070602</td>\n",
       "      <td>7.060231</td>\n",
       "    </tr>\n",
       "    <tr>\n",
       "      <th>C</th>\n",
       "      <td>15921</td>\n",
       "      <td>1353</td>\n",
       "      <td>0.084982</td>\n",
       "      <td>8.498210</td>\n",
       "    </tr>\n",
       "    <tr>\n",
       "      <th>D</th>\n",
       "      <td>349</td>\n",
       "      <td>21</td>\n",
       "      <td>0.060172</td>\n",
       "      <td>6.017192</td>\n",
       "    </tr>\n",
       "    <tr>\n",
       "      <th>E</th>\n",
       "      <td>22</td>\n",
       "      <td>2</td>\n",
       "      <td>0.090909</td>\n",
       "      <td>9.090909</td>\n",
       "    </tr>\n",
       "  </tbody>\n",
       "</table>\n",
       "</div>"
      ],
      "text/plain": [
       "                       count   sum      mean income_non_return\n",
       "                        debt  debt      debt                  \n",
       "total_income_category                                         \n",
       "A                         25     2  0.080000          8.000000\n",
       "B                       5014   354  0.070602          7.060231\n",
       "C                      15921  1353  0.084982          8.498210\n",
       "D                        349    21  0.060172          6.017192\n",
       "E                         22     2  0.090909          9.090909"
      ]
     },
     "execution_count": 30,
     "metadata": {},
     "output_type": "execute_result"
    }
   ],
   "source": [
    "income_data_grouping['income_non_return'] = income_data_grouping['mean'] * 100\n",
    "income_data_grouping"
   ]
  },
  {
   "cell_type": "markdown",
   "id": "6dd14b57",
   "metadata": {
    "deletable": false,
    "id": "6dd14b57"
   },
   "source": [
    "**Вывод:** В столбце \"count\" получаем общее кол-во заемщиков по категории \"total_income_category\". В столбце \"sum\" получаем общее кол-во должников. Данные, полученные в столбце \"mean\", как отношение общего кол-ва должников среди всех заемщиков показывают по каждой категории, что чем выше доля должников, тем хуже возвращают кредит в данной категориии. Количество заемщиков во всех категориях кроме B и C несопоставимо меньше, поэтому проанализируем только эти две категории. Лучше всего возвращают кредит люди, входящие в категорию \"B\" (с доходом ниже среднего: от 30000 до 50000 руб.)."
   ]
  },
  {
   "cell_type": "markdown",
   "id": "062474ae",
   "metadata": {},
   "source": [
    "<div class=\"alert alert-success\">\n",
    "<h2> Комментарий ревьюера 😊 v_2<a class=\"tocSkip\"> </h2>\n",
    "\n",
    "Хорошая работа)"
   ]
  },
  {
   "cell_type": "markdown",
   "id": "6c2c043c",
   "metadata": {},
   "source": [
    "<div class=\"alert alert-block alert-danger\">\n",
    "<h2> Комментарий ревьюера ⛔️<a class=\"tocSkip\"></h2>\n",
    "<s>\n",
    "Также нужно скорректировать расчеты и обновить выводы. В данном примере количество заемщиков во всех категориях кроме B и C несопоставимо меньше, поэтому для выявления зависимости имеет смысл сравнивать только их."
   ]
  },
  {
   "cell_type": "markdown",
   "id": "1dcc9b12",
   "metadata": {
    "deletable": false,
    "editable": false,
    "id": "1dcc9b12"
   },
   "source": [
    "#### 3.4 Как разные цели кредита влияют на его возврат в срок?"
   ]
  },
  {
   "cell_type": "code",
   "execution_count": 31,
   "id": "c602bc8b",
   "metadata": {
    "deletable": false,
    "id": "c602bc8b"
   },
   "outputs": [
    {
     "data": {
      "text/html": [
       "<div>\n",
       "<style scoped>\n",
       "    .dataframe tbody tr th:only-of-type {\n",
       "        vertical-align: middle;\n",
       "    }\n",
       "\n",
       "    .dataframe tbody tr th {\n",
       "        vertical-align: top;\n",
       "    }\n",
       "\n",
       "    .dataframe thead th {\n",
       "        text-align: right;\n",
       "    }\n",
       "</style>\n",
       "<table border=\"1\" class=\"dataframe\">\n",
       "  <thead>\n",
       "    <tr style=\"text-align: right;\">\n",
       "      <th></th>\n",
       "      <th></th>\n",
       "      <th>debt</th>\n",
       "    </tr>\n",
       "    <tr>\n",
       "      <th>purpose_category</th>\n",
       "      <th>debt</th>\n",
       "      <th></th>\n",
       "    </tr>\n",
       "  </thead>\n",
       "  <tbody>\n",
       "    <tr>\n",
       "      <th rowspan=\"2\" valign=\"top\">операции с автомобилем</th>\n",
       "      <th>0</th>\n",
       "      <td>3879</td>\n",
       "    </tr>\n",
       "    <tr>\n",
       "      <th>1</th>\n",
       "      <td>400</td>\n",
       "    </tr>\n",
       "    <tr>\n",
       "      <th rowspan=\"2\" valign=\"top\">операции с недвижимостью</th>\n",
       "      <th>0</th>\n",
       "      <td>9971</td>\n",
       "    </tr>\n",
       "    <tr>\n",
       "      <th>1</th>\n",
       "      <td>780</td>\n",
       "    </tr>\n",
       "    <tr>\n",
       "      <th rowspan=\"2\" valign=\"top\">получение образования</th>\n",
       "      <th>0</th>\n",
       "      <td>3619</td>\n",
       "    </tr>\n",
       "    <tr>\n",
       "      <th>1</th>\n",
       "      <td>369</td>\n",
       "    </tr>\n",
       "    <tr>\n",
       "      <th rowspan=\"2\" valign=\"top\">проведение свадьбы</th>\n",
       "      <th>0</th>\n",
       "      <td>2130</td>\n",
       "    </tr>\n",
       "    <tr>\n",
       "      <th>1</th>\n",
       "      <td>183</td>\n",
       "    </tr>\n",
       "  </tbody>\n",
       "</table>\n",
       "</div>"
      ],
      "text/plain": [
       "                               debt\n",
       "purpose_category         debt      \n",
       "операции с автомобилем   0     3879\n",
       "                         1      400\n",
       "операции с недвижимостью 0     9971\n",
       "                         1      780\n",
       "получение образования    0     3619\n",
       "                         1      369\n",
       "проведение свадьбы       0     2130\n",
       "                         1      183"
      ]
     },
     "execution_count": 31,
     "metadata": {},
     "output_type": "execute_result"
    }
   ],
   "source": [
    "# Ваш код будет здесь. Вы можете создавать новые ячейки.\n",
    "data_purpose_category = data.groupby(['purpose_category', 'debt']).agg({'debt':'count'})\n",
    "data_purpose_category.head(15)"
   ]
  },
  {
   "cell_type": "code",
   "execution_count": 32,
   "id": "d6547395",
   "metadata": {},
   "outputs": [
    {
     "data": {
      "text/html": [
       "<div>\n",
       "<style scoped>\n",
       "    .dataframe tbody tr th:only-of-type {\n",
       "        vertical-align: middle;\n",
       "    }\n",
       "\n",
       "    .dataframe tbody tr th {\n",
       "        vertical-align: top;\n",
       "    }\n",
       "\n",
       "    .dataframe thead tr th {\n",
       "        text-align: left;\n",
       "    }\n",
       "\n",
       "    .dataframe thead tr:last-of-type th {\n",
       "        text-align: right;\n",
       "    }\n",
       "</style>\n",
       "<table border=\"1\" class=\"dataframe\">\n",
       "  <thead>\n",
       "    <tr>\n",
       "      <th></th>\n",
       "      <th>count</th>\n",
       "      <th>sum</th>\n",
       "      <th>mean</th>\n",
       "    </tr>\n",
       "    <tr>\n",
       "      <th></th>\n",
       "      <th>debt</th>\n",
       "      <th>debt</th>\n",
       "      <th>debt</th>\n",
       "    </tr>\n",
       "    <tr>\n",
       "      <th>purpose_category</th>\n",
       "      <th></th>\n",
       "      <th></th>\n",
       "      <th></th>\n",
       "    </tr>\n",
       "  </thead>\n",
       "  <tbody>\n",
       "    <tr>\n",
       "      <th>операции с автомобилем</th>\n",
       "      <td>4279</td>\n",
       "      <td>400</td>\n",
       "      <td>0.093480</td>\n",
       "    </tr>\n",
       "    <tr>\n",
       "      <th>операции с недвижимостью</th>\n",
       "      <td>10751</td>\n",
       "      <td>780</td>\n",
       "      <td>0.072551</td>\n",
       "    </tr>\n",
       "    <tr>\n",
       "      <th>получение образования</th>\n",
       "      <td>3988</td>\n",
       "      <td>369</td>\n",
       "      <td>0.092528</td>\n",
       "    </tr>\n",
       "    <tr>\n",
       "      <th>проведение свадьбы</th>\n",
       "      <td>2313</td>\n",
       "      <td>183</td>\n",
       "      <td>0.079118</td>\n",
       "    </tr>\n",
       "  </tbody>\n",
       "</table>\n",
       "</div>"
      ],
      "text/plain": [
       "                          count  sum      mean\n",
       "                           debt debt      debt\n",
       "purpose_category                              \n",
       "операции с автомобилем     4279  400  0.093480\n",
       "операции с недвижимостью  10751  780  0.072551\n",
       "получение образования      3988  369  0.092528\n",
       "проведение свадьбы         2313  183  0.079118"
      ]
     },
     "execution_count": 32,
     "metadata": {},
     "output_type": "execute_result"
    }
   ],
   "source": [
    "purpose_category_data_grouping = data.pivot_table(index=['purpose_category'], values='debt',\\\n",
    "                                                  aggfunc=['count', 'sum', 'mean'])\n",
    "purpose_category_data_grouping"
   ]
  },
  {
   "cell_type": "code",
   "execution_count": 33,
   "id": "a1195b0c",
   "metadata": {},
   "outputs": [
    {
     "data": {
      "text/html": [
       "<div>\n",
       "<style scoped>\n",
       "    .dataframe tbody tr th:only-of-type {\n",
       "        vertical-align: middle;\n",
       "    }\n",
       "\n",
       "    .dataframe tbody tr th {\n",
       "        vertical-align: top;\n",
       "    }\n",
       "\n",
       "    .dataframe thead tr th {\n",
       "        text-align: left;\n",
       "    }\n",
       "\n",
       "    .dataframe thead tr:last-of-type th {\n",
       "        text-align: right;\n",
       "    }\n",
       "</style>\n",
       "<table border=\"1\" class=\"dataframe\">\n",
       "  <thead>\n",
       "    <tr>\n",
       "      <th></th>\n",
       "      <th>count</th>\n",
       "      <th>sum</th>\n",
       "      <th>mean</th>\n",
       "      <th>coeff_non_return</th>\n",
       "    </tr>\n",
       "    <tr>\n",
       "      <th></th>\n",
       "      <th>debt</th>\n",
       "      <th>debt</th>\n",
       "      <th>debt</th>\n",
       "      <th></th>\n",
       "    </tr>\n",
       "    <tr>\n",
       "      <th>purpose_category</th>\n",
       "      <th></th>\n",
       "      <th></th>\n",
       "      <th></th>\n",
       "      <th></th>\n",
       "    </tr>\n",
       "  </thead>\n",
       "  <tbody>\n",
       "    <tr>\n",
       "      <th>операции с автомобилем</th>\n",
       "      <td>4279</td>\n",
       "      <td>400</td>\n",
       "      <td>0.093480</td>\n",
       "      <td>9.347978</td>\n",
       "    </tr>\n",
       "    <tr>\n",
       "      <th>операции с недвижимостью</th>\n",
       "      <td>10751</td>\n",
       "      <td>780</td>\n",
       "      <td>0.072551</td>\n",
       "      <td>7.255139</td>\n",
       "    </tr>\n",
       "    <tr>\n",
       "      <th>получение образования</th>\n",
       "      <td>3988</td>\n",
       "      <td>369</td>\n",
       "      <td>0.092528</td>\n",
       "      <td>9.252758</td>\n",
       "    </tr>\n",
       "    <tr>\n",
       "      <th>проведение свадьбы</th>\n",
       "      <td>2313</td>\n",
       "      <td>183</td>\n",
       "      <td>0.079118</td>\n",
       "      <td>7.911803</td>\n",
       "    </tr>\n",
       "  </tbody>\n",
       "</table>\n",
       "</div>"
      ],
      "text/plain": [
       "                          count  sum      mean coeff_non_return\n",
       "                           debt debt      debt                 \n",
       "purpose_category                                               \n",
       "операции с автомобилем     4279  400  0.093480         9.347978\n",
       "операции с недвижимостью  10751  780  0.072551         7.255139\n",
       "получение образования      3988  369  0.092528         9.252758\n",
       "проведение свадьбы         2313  183  0.079118         7.911803"
      ]
     },
     "execution_count": 33,
     "metadata": {},
     "output_type": "execute_result"
    }
   ],
   "source": [
    "purpose_category_data_grouping['coeff_non_return'] = purpose_category_data_grouping['mean'] * 100\n",
    "purpose_category_data_grouping"
   ]
  },
  {
   "cell_type": "markdown",
   "id": "cf05ed63",
   "metadata": {
    "deletable": false,
    "id": "cf05ed63"
   },
   "source": [
    "**Вывод:** В столбце \"count\" получаем общее кол-во заемщиков по категории \"purpose_category\". В столбце \"sum\" получаем общее кол-во должников. Данные, полученные в столбце \"mean\", как отношение общего кол-ва должников среди всех заемщиков показывают по каждой категории, что чем выше доля должников, тем хуже возвращают кредит в данной категориии. Таким образом, наиболее рискованными целями кредитования для возврата кредита являются \"операции с автомобилем\" и \"получение образования\". Наиболее надежной целью кредитования для возврата кредита является \"операции с недвижимостью\"."
   ]
  },
  {
   "cell_type": "markdown",
   "id": "9b1f5fe9",
   "metadata": {},
   "source": [
    "<div class=\"alert alert-block alert-danger\">\n",
    "<h2> Комментарий ревьюера ⛔️<a class=\"tocSkip\"></h2>\n",
    "<s>\n",
    "Также нужно доработать)"
   ]
  },
  {
   "cell_type": "markdown",
   "id": "a4a2e58f",
   "metadata": {},
   "source": [
    "<div class=\"alert alert-success\">\n",
    "<h2> Комментарий ревьюера 😊 v_2<a class=\"tocSkip\"> </h2>\n",
    "\n",
    "Верно)"
   ]
  },
  {
   "cell_type": "markdown",
   "id": "46c1f10b",
   "metadata": {
    "deletable": false,
    "editable": false,
    "id": "46c1f10b"
   },
   "source": [
    "#### 3.5 Приведите возможные причины появления пропусков в исходных данных."
   ]
  },
  {
   "cell_type": "markdown",
   "id": "3697d2a9",
   "metadata": {
    "deletable": false,
    "id": "3697d2a9"
   },
   "source": [
    "*Ответ:* Количество пропусков в столбцах \"трудовой стаж\" (days_employed) и \"совокупный доход\" (total_income) одинаково. Причины их возникновения, скорее всего, одинаковы. Наидолее вероятными причинами их возникновения являются: непредоставление \"заемщиком\" сведений о себе, связанных с данными пропусками, либо \"технологическая ошибка\", связанная с нарушением целостности данных по каждой записи в которой имеются пропуски. "
   ]
  },
  {
   "cell_type": "markdown",
   "id": "03fcfae9",
   "metadata": {},
   "source": [
    "<div class=\"alert alert-success\">\n",
    "<h2> Комментарий ревьюера 😊<a class=\"tocSkip\"> </h2>\n",
    "\n",
    "Верно, молодец)"
   ]
  },
  {
   "cell_type": "markdown",
   "id": "3137d257",
   "metadata": {
    "deletable": false,
    "editable": false,
    "id": "3137d257"
   },
   "source": [
    "#### 3.6 Объясните, почему заполнить пропуски медианным значением — лучшее решение для количественных переменных."
   ]
  },
  {
   "cell_type": "markdown",
   "id": "cf40012a",
   "metadata": {
    "deletable": false,
    "id": "cf40012a"
   },
   "source": [
    "*Ответ:* Так как датафрейм неоднороден, т.е. имеются разные категории заемщиков и связанные с ними характеристики, то числовые данные предпочтительней обобщать не \"средними\", а \"медианными\" значениями."
   ]
  },
  {
   "cell_type": "markdown",
   "id": "dc3ee512",
   "metadata": {},
   "source": [
    "<div class=\"alert alert-success\">\n",
    "<h2> Комментарий ревьюера 😊<a class=\"tocSkip\"> </h2>\n",
    "\n",
    "Точно, медиана менее чувствительна к выбросам, чем среднее."
   ]
  },
  {
   "cell_type": "markdown",
   "id": "57bc304e",
   "metadata": {
    "deletable": false,
    "editable": false,
    "id": "57bc304e"
   },
   "source": [
    "### Шаг 4: общий вывод."
   ]
  },
  {
   "cell_type": "markdown",
   "id": "1ab75d1c",
   "metadata": {
    "deletable": false,
    "id": "1ab75d1c"
   },
   "source": [
    "В начале проекта мы изучили полученные данные. Произвели предобработку данных: обработали пропуски, аномальные значения, изменили некоторые типы данных и удалили дубликаты. Далее произвели категоризацию данных по уровню дохода заемщиков и целям получения кредита. Затем, с помощью сводных таблиц подготовили данные для анализа, что дало нам сделать следующие выводы. Если брать в расчет только возврат кредита, то наиболее препочтительным клиентом для предоставления кредита должен быть заемщик, имеющий опыт официальных семейных отношений, бездетный или у которого на иждивении находятся один или трое детей и относящийся к категории \"В\", людей с доходом от тридцати тысяч до пятидесяти тысяч рублей."
   ]
  },
  {
   "cell_type": "markdown",
   "id": "0e773c2b",
   "metadata": {},
   "source": [
    "<div class=\"alert alert-block alert-danger\">\n",
    "<h2> Комментарий ревьюера ⛔️<a class=\"tocSkip\"></h2>\n",
    "    <s>\n",
    "Общий вывод это главный итог твоей работы, то что мы можем предоставить нашему заказчику. Давай дополним его результатами твоей работы и основными выводами) Можно  начать общий вывод с того, с какими данными мы работали и какие действия провели на этапе предобработки, а закончить выявленными при ответе на вопросы зависимостями и рекомендациями заказчику по улучшению сбора данных и скоринга. </div>"
   ]
  },
  {
   "cell_type": "markdown",
   "id": "3f8bfe1a",
   "metadata": {},
   "source": [
    "<div class=\"alert alert-info\">\n",
    "<b> Комментарий студента: </b> В материалах учебной программы курса, предшествовавших данному проекту, о работе функции .pivot_table() информации предоставлено недостаточно для того, чтобы уверенно овладеть ею в кратчайший срок Приходится тратить значительное количество времени на самостоятельное изучение её работы. Считаю, что это время лучше использовать на подробное изучение функции .pivot_table() в рамках курса и др. учебных материалов, что позволит лучше решать УЧЕБНЫЕ задачи курса и поможет Слушателям курса осмысленно решать практическиее задания курса. Поэтому Ваши рекомендации по выполнению проектов прошу направлять более развернуто и дополнительно подробно разъяснять информацию о материале, который не предоставлен Слушателю курса!</div>"
   ]
  },
  {
   "cell_type": "markdown",
   "id": "6d6accee",
   "metadata": {},
   "source": [
    "<div style=\"border:solid Purple 2px; padding: 40px\">\n",
    "\n",
    "<h2> Общий комментарий ревьюера 😊 v_2<a class=\"tocSkip\"> </h2>\n",
    "    <br/>\n",
    " Валерий, спасибо за обратную связь, будем работать над этим. Осталось доработать вывод по пункту с детьми.\n",
    "    "
   ]
  },
  {
   "cell_type": "markdown",
   "id": "0eddcfa9",
   "metadata": {},
   "source": [
    "<div class=\"alert alert-info\">\n",
    "<b> Спасибо за ответ!</div>"
   ]
  },
  {
   "cell_type": "markdown",
   "id": "09dc5c82",
   "metadata": {},
   "source": [
    "<div style=\"border:solid Purple 2px; padding: 40px\">\n",
    "\n",
    "<h2> Общий комментарий ревьюера 😊 v_3<a class=\"tocSkip\"> </h2>\n",
    "    <br/>\n",
    "Валерий, спасибо за проект! Успехов в дальнейшем обучении!)\n",
    "    "
   ]
  },
  {
   "cell_type": "markdown",
   "id": "edd7ba70",
   "metadata": {},
   "source": [
    "<div style=\"border:solid Purple 2px; padding: 40px\">\n",
    "\n",
    "<h2> Общий комментарий ревьюера 😊<a class=\"tocSkip\"> </h2>\n",
    "    <br/>\n",
    "Ты проделал большую работу, и все основные задачи в рамках проекта решены. Не пугайся красных комментариев, они призваны помочь тебе с решением задач и улучшить его) Нужно немного доработать рассчеты и обновить выводы по пунктам)\n",
    " \n",
    "    \n",
    " \n",
    "**Желаю удачи и жду твой проект на повторное ревью! Если вдруг у тебя возникнут вопросы, то я с радостью отвечу на них.    😊**\n",
    "    "
   ]
  },
  {
   "cell_type": "code",
   "execution_count": null,
   "id": "61d70a69",
   "metadata": {},
   "outputs": [],
   "source": []
  }
 ],
 "metadata": {
  "ExecuteTimeLog": [
   {
    "duration": 1284,
    "start_time": "2023-07-27T16:46:19.053Z"
   },
   {
    "duration": 26,
    "start_time": "2023-07-27T16:46:23.649Z"
   },
   {
    "duration": 17,
    "start_time": "2023-07-27T16:46:26.353Z"
   },
   {
    "duration": 10,
    "start_time": "2023-07-27T16:46:30.465Z"
   },
   {
    "duration": 43,
    "start_time": "2023-07-27T16:46:32.062Z"
   },
   {
    "duration": 3,
    "start_time": "2023-07-27T16:46:34.489Z"
   },
   {
    "duration": 9,
    "start_time": "2023-07-27T16:46:37.170Z"
   },
   {
    "duration": 4,
    "start_time": "2023-07-27T16:46:39.061Z"
   },
   {
    "duration": 7,
    "start_time": "2023-07-27T16:46:39.826Z"
   },
   {
    "duration": 32,
    "start_time": "2023-07-27T16:46:40.497Z"
   },
   {
    "duration": 52,
    "start_time": "2023-07-27T16:46:42.000Z"
   },
   {
    "duration": 9,
    "start_time": "2023-07-27T17:16:39.267Z"
   },
   {
    "duration": 10,
    "start_time": "2023-07-27T17:16:41.498Z"
   },
   {
    "duration": 14,
    "start_time": "2023-07-27T17:16:43.363Z"
   },
   {
    "duration": 19,
    "start_time": "2023-07-27T17:16:44.668Z"
   },
   {
    "duration": 24,
    "start_time": "2023-07-27T17:16:45.256Z"
   },
   {
    "duration": 9,
    "start_time": "2023-07-27T17:16:46.970Z"
   },
   {
    "duration": 17,
    "start_time": "2023-07-27T17:16:48.064Z"
   },
   {
    "duration": 11,
    "start_time": "2023-07-27T17:16:49.564Z"
   },
   {
    "duration": 8,
    "start_time": "2023-07-27T17:16:51.427Z"
   },
   {
    "duration": 9,
    "start_time": "2023-07-27T17:16:52.275Z"
   },
   {
    "duration": 11,
    "start_time": "2023-07-27T17:16:55.522Z"
   },
   {
    "duration": 6,
    "start_time": "2023-07-27T17:43:45.175Z"
   },
   {
    "duration": 8,
    "start_time": "2023-07-27T17:44:10.667Z"
   },
   {
    "duration": 130,
    "start_time": "2023-07-27T18:03:13.196Z"
   },
   {
    "duration": 14,
    "start_time": "2023-07-27T18:04:02.128Z"
   },
   {
    "duration": 21,
    "start_time": "2023-07-27T18:04:04.296Z"
   },
   {
    "duration": 13,
    "start_time": "2023-07-27T18:05:39.616Z"
   },
   {
    "duration": 9,
    "start_time": "2023-07-27T18:05:48.030Z"
   },
   {
    "duration": 29,
    "start_time": "2023-07-27T18:06:02.698Z"
   },
   {
    "duration": 9,
    "start_time": "2023-07-27T18:06:08.498Z"
   },
   {
    "duration": 4,
    "start_time": "2023-07-27T18:16:31.135Z"
   },
   {
    "duration": 17,
    "start_time": "2023-07-27T18:19:31.773Z"
   },
   {
    "duration": 10,
    "start_time": "2023-07-27T18:31:39.538Z"
   },
   {
    "duration": 5,
    "start_time": "2023-07-27T18:31:49.066Z"
   },
   {
    "duration": 4,
    "start_time": "2023-07-27T18:32:33.436Z"
   },
   {
    "duration": 9,
    "start_time": "2023-07-27T18:32:42.967Z"
   },
   {
    "duration": 9,
    "start_time": "2023-07-27T18:32:58.481Z"
   },
   {
    "duration": 22,
    "start_time": "2023-07-27T18:33:12.021Z"
   },
   {
    "duration": 12,
    "start_time": "2023-07-27T18:33:19.523Z"
   },
   {
    "duration": 8,
    "start_time": "2023-07-27T18:39:13.777Z"
   },
   {
    "duration": 4,
    "start_time": "2023-07-27T18:48:16.359Z"
   },
   {
    "duration": 4,
    "start_time": "2023-07-27T18:48:20.855Z"
   },
   {
    "duration": 20,
    "start_time": "2023-07-27T18:50:25.258Z"
   },
   {
    "duration": 27,
    "start_time": "2023-07-27T18:50:43.141Z"
   },
   {
    "duration": 120,
    "start_time": "2023-07-27T18:54:26.475Z"
   },
   {
    "duration": 12,
    "start_time": "2023-07-27T18:54:34.766Z"
   },
   {
    "duration": 7,
    "start_time": "2023-07-27T18:54:38.088Z"
   },
   {
    "duration": 1641,
    "start_time": "2023-07-27T19:02:12.694Z"
   },
   {
    "duration": 8,
    "start_time": "2023-07-27T19:05:18.543Z"
   },
   {
    "duration": 13,
    "start_time": "2023-07-27T19:05:27.385Z"
   },
   {
    "duration": 14,
    "start_time": "2023-07-27T19:05:30.017Z"
   },
   {
    "duration": 9,
    "start_time": "2023-07-27T19:13:47.299Z"
   },
   {
    "duration": 11,
    "start_time": "2023-07-27T19:14:39.398Z"
   },
   {
    "duration": 8,
    "start_time": "2023-07-27T19:15:17.960Z"
   },
   {
    "duration": 4,
    "start_time": "2023-07-27T19:16:41.553Z"
   },
   {
    "duration": 7,
    "start_time": "2023-07-27T19:16:42.521Z"
   },
   {
    "duration": 5,
    "start_time": "2023-07-27T19:17:09.284Z"
   },
   {
    "duration": 5,
    "start_time": "2023-07-27T19:17:10.252Z"
   },
   {
    "duration": 16,
    "start_time": "2023-07-27T19:18:47.030Z"
   },
   {
    "duration": 26,
    "start_time": "2023-07-27T19:18:58.924Z"
   },
   {
    "duration": 23,
    "start_time": "2023-07-27T19:19:53.226Z"
   },
   {
    "duration": 15,
    "start_time": "2023-07-27T19:20:07.783Z"
   },
   {
    "duration": 17,
    "start_time": "2023-07-27T19:20:11.734Z"
   },
   {
    "duration": 26,
    "start_time": "2023-07-27T19:21:30.491Z"
   },
   {
    "duration": 10,
    "start_time": "2023-07-27T19:47:47.374Z"
   },
   {
    "duration": 15,
    "start_time": "2023-07-27T19:47:54.249Z"
   },
   {
    "duration": 36,
    "start_time": "2023-07-27T20:01:55.697Z"
   },
   {
    "duration": 15,
    "start_time": "2023-07-27T20:04:15.493Z"
   },
   {
    "duration": 519,
    "start_time": "2023-07-27T20:18:16.810Z"
   },
   {
    "duration": 37,
    "start_time": "2023-07-27T20:18:17.333Z"
   },
   {
    "duration": 50,
    "start_time": "2023-07-27T20:18:17.372Z"
   },
   {
    "duration": 16,
    "start_time": "2023-07-27T20:18:17.427Z"
   },
   {
    "duration": 36,
    "start_time": "2023-07-27T20:18:17.446Z"
   },
   {
    "duration": 4,
    "start_time": "2023-07-27T20:18:17.483Z"
   },
   {
    "duration": 37,
    "start_time": "2023-07-27T20:18:17.489Z"
   },
   {
    "duration": 5,
    "start_time": "2023-07-27T20:18:17.530Z"
   },
   {
    "duration": 17,
    "start_time": "2023-07-27T20:18:17.537Z"
   },
   {
    "duration": 12,
    "start_time": "2023-07-27T20:18:17.556Z"
   },
   {
    "duration": 53,
    "start_time": "2023-07-27T20:18:17.569Z"
   },
   {
    "duration": 14,
    "start_time": "2023-07-27T20:18:17.623Z"
   },
   {
    "duration": 6,
    "start_time": "2023-07-27T20:18:17.639Z"
   },
   {
    "duration": 15,
    "start_time": "2023-07-27T20:18:17.648Z"
   },
   {
    "duration": 42,
    "start_time": "2023-07-27T20:18:17.665Z"
   },
   {
    "duration": 31,
    "start_time": "2023-07-27T20:18:17.708Z"
   },
   {
    "duration": 4,
    "start_time": "2023-07-27T20:18:17.742Z"
   },
   {
    "duration": 14,
    "start_time": "2023-07-27T20:18:17.747Z"
   },
   {
    "duration": 6,
    "start_time": "2023-07-27T20:18:17.762Z"
   },
   {
    "duration": 6,
    "start_time": "2023-07-27T20:18:17.769Z"
   },
   {
    "duration": 11,
    "start_time": "2023-07-27T20:18:17.777Z"
   },
   {
    "duration": 44,
    "start_time": "2023-07-27T20:18:17.789Z"
   },
   {
    "duration": 20,
    "start_time": "2023-07-27T20:18:17.835Z"
   },
   {
    "duration": 9,
    "start_time": "2023-07-27T20:18:17.857Z"
   },
   {
    "duration": 13,
    "start_time": "2023-07-27T20:18:17.868Z"
   },
   {
    "duration": 15,
    "start_time": "2023-07-27T20:18:17.882Z"
   },
   {
    "duration": 14,
    "start_time": "2023-07-27T20:18:17.899Z"
   },
   {
    "duration": 26,
    "start_time": "2023-07-27T20:18:17.914Z"
   },
   {
    "duration": 1254,
    "start_time": "2023-07-28T14:31:16.461Z"
   },
   {
    "duration": 20,
    "start_time": "2023-07-28T14:31:17.717Z"
   },
   {
    "duration": 13,
    "start_time": "2023-07-28T14:31:17.739Z"
   },
   {
    "duration": 10,
    "start_time": "2023-07-28T14:31:17.753Z"
   },
   {
    "duration": 32,
    "start_time": "2023-07-28T14:31:17.765Z"
   },
   {
    "duration": 22,
    "start_time": "2023-07-28T14:31:17.799Z"
   },
   {
    "duration": 22,
    "start_time": "2023-07-28T14:31:17.822Z"
   },
   {
    "duration": 5,
    "start_time": "2023-07-28T14:31:17.845Z"
   },
   {
    "duration": 19,
    "start_time": "2023-07-28T14:31:17.852Z"
   },
   {
    "duration": 10,
    "start_time": "2023-07-28T14:31:17.872Z"
   },
   {
    "duration": 48,
    "start_time": "2023-07-28T14:31:17.883Z"
   },
   {
    "duration": 11,
    "start_time": "2023-07-28T14:31:17.933Z"
   },
   {
    "duration": 12,
    "start_time": "2023-07-28T14:31:17.945Z"
   },
   {
    "duration": 18,
    "start_time": "2023-07-28T14:31:17.960Z"
   },
   {
    "duration": 19,
    "start_time": "2023-07-28T14:31:17.980Z"
   },
   {
    "duration": 21,
    "start_time": "2023-07-28T14:31:18.001Z"
   },
   {
    "duration": 4,
    "start_time": "2023-07-28T14:31:18.024Z"
   },
   {
    "duration": 12,
    "start_time": "2023-07-28T14:31:18.030Z"
   },
   {
    "duration": 6,
    "start_time": "2023-07-28T14:31:18.044Z"
   },
   {
    "duration": 4,
    "start_time": "2023-07-28T14:31:18.051Z"
   },
   {
    "duration": 18,
    "start_time": "2023-07-28T14:31:18.057Z"
   },
   {
    "duration": 13,
    "start_time": "2023-07-28T14:31:18.077Z"
   },
   {
    "duration": 51,
    "start_time": "2023-07-28T14:31:18.092Z"
   },
   {
    "duration": 10,
    "start_time": "2023-07-28T14:31:18.145Z"
   },
   {
    "duration": 33,
    "start_time": "2023-07-28T14:31:18.156Z"
   },
   {
    "duration": 21,
    "start_time": "2023-07-28T14:31:18.191Z"
   },
   {
    "duration": 13,
    "start_time": "2023-07-28T14:31:18.214Z"
   },
   {
    "duration": 15,
    "start_time": "2023-07-28T14:31:18.229Z"
   },
   {
    "duration": 2,
    "start_time": "2023-07-28T14:31:45.998Z"
   },
   {
    "duration": 11,
    "start_time": "2023-07-28T14:42:29.869Z"
   },
   {
    "duration": 18,
    "start_time": "2023-07-28T14:43:12.440Z"
   },
   {
    "duration": 12,
    "start_time": "2023-07-28T14:44:24.915Z"
   },
   {
    "duration": 17,
    "start_time": "2023-07-28T14:44:27.455Z"
   },
   {
    "duration": 10,
    "start_time": "2023-07-28T14:46:52.807Z"
   },
   {
    "duration": 11,
    "start_time": "2023-07-28T14:59:24.589Z"
   },
   {
    "duration": 16,
    "start_time": "2023-07-28T15:00:37.739Z"
   },
   {
    "duration": 8,
    "start_time": "2023-07-28T15:02:26.395Z"
   },
   {
    "duration": 458,
    "start_time": "2023-07-28T15:03:21.445Z"
   },
   {
    "duration": 30,
    "start_time": "2023-07-28T15:03:21.905Z"
   },
   {
    "duration": 19,
    "start_time": "2023-07-28T15:03:21.939Z"
   },
   {
    "duration": 23,
    "start_time": "2023-07-28T15:03:21.960Z"
   },
   {
    "duration": 63,
    "start_time": "2023-07-28T15:03:21.986Z"
   },
   {
    "duration": 4,
    "start_time": "2023-07-28T15:03:22.051Z"
   },
   {
    "duration": 15,
    "start_time": "2023-07-28T15:03:22.057Z"
   },
   {
    "duration": 6,
    "start_time": "2023-07-28T15:03:22.074Z"
   },
   {
    "duration": 23,
    "start_time": "2023-07-28T15:03:22.082Z"
   },
   {
    "duration": 23,
    "start_time": "2023-07-28T15:03:22.107Z"
   },
   {
    "duration": 40,
    "start_time": "2023-07-28T15:03:22.132Z"
   },
   {
    "duration": 12,
    "start_time": "2023-07-28T15:03:22.174Z"
   },
   {
    "duration": 24,
    "start_time": "2023-07-28T15:03:22.187Z"
   },
   {
    "duration": 20,
    "start_time": "2023-07-28T15:03:22.213Z"
   },
   {
    "duration": 54,
    "start_time": "2023-07-28T15:03:22.235Z"
   },
   {
    "duration": 25,
    "start_time": "2023-07-28T15:03:22.290Z"
   },
   {
    "duration": 6,
    "start_time": "2023-07-28T15:03:22.316Z"
   },
   {
    "duration": 44,
    "start_time": "2023-07-28T15:03:22.324Z"
   },
   {
    "duration": 22,
    "start_time": "2023-07-28T15:03:22.370Z"
   },
   {
    "duration": 7,
    "start_time": "2023-07-28T15:03:22.394Z"
   },
   {
    "duration": 49,
    "start_time": "2023-07-28T15:03:22.402Z"
   },
   {
    "duration": 35,
    "start_time": "2023-07-28T15:03:22.452Z"
   },
   {
    "duration": 42,
    "start_time": "2023-07-28T15:03:22.489Z"
   },
   {
    "duration": 26,
    "start_time": "2023-07-28T15:03:22.535Z"
   },
   {
    "duration": 24,
    "start_time": "2023-07-28T15:03:22.563Z"
   },
   {
    "duration": 18,
    "start_time": "2023-07-28T15:03:22.589Z"
   },
   {
    "duration": 7,
    "start_time": "2023-07-28T15:03:22.608Z"
   },
   {
    "duration": 39,
    "start_time": "2023-07-28T15:03:22.616Z"
   },
   {
    "duration": 26,
    "start_time": "2023-07-28T15:03:22.657Z"
   },
   {
    "duration": 10,
    "start_time": "2023-07-28T15:03:22.685Z"
   },
   {
    "duration": 22,
    "start_time": "2023-07-28T15:03:22.696Z"
   },
   {
    "duration": 29,
    "start_time": "2023-07-28T15:03:22.720Z"
   },
   {
    "duration": 8,
    "start_time": "2023-07-28T15:03:22.750Z"
   },
   {
    "duration": 506,
    "start_time": "2023-07-28T17:53:13.219Z"
   },
   {
    "duration": 23,
    "start_time": "2023-07-28T17:53:13.728Z"
   },
   {
    "duration": 15,
    "start_time": "2023-07-28T17:53:13.753Z"
   },
   {
    "duration": 23,
    "start_time": "2023-07-28T17:53:13.770Z"
   },
   {
    "duration": 32,
    "start_time": "2023-07-28T17:53:13.795Z"
   },
   {
    "duration": 4,
    "start_time": "2023-07-28T17:53:13.829Z"
   },
   {
    "duration": 10,
    "start_time": "2023-07-28T17:53:13.834Z"
   },
   {
    "duration": 15,
    "start_time": "2023-07-28T17:53:13.846Z"
   },
   {
    "duration": 9,
    "start_time": "2023-07-28T17:53:13.863Z"
   },
   {
    "duration": 5,
    "start_time": "2023-07-28T17:53:13.873Z"
   },
   {
    "duration": 47,
    "start_time": "2023-07-28T17:53:13.879Z"
   },
   {
    "duration": 10,
    "start_time": "2023-07-28T17:53:13.927Z"
   },
   {
    "duration": 4,
    "start_time": "2023-07-28T17:53:13.938Z"
   },
   {
    "duration": 23,
    "start_time": "2023-07-28T17:53:13.945Z"
   },
   {
    "duration": 24,
    "start_time": "2023-07-28T17:53:13.969Z"
   },
   {
    "duration": 18,
    "start_time": "2023-07-28T17:53:13.994Z"
   },
   {
    "duration": 4,
    "start_time": "2023-07-28T17:53:14.014Z"
   },
   {
    "duration": 20,
    "start_time": "2023-07-28T17:53:14.020Z"
   },
   {
    "duration": 8,
    "start_time": "2023-07-28T17:53:14.061Z"
   },
   {
    "duration": 5,
    "start_time": "2023-07-28T17:53:14.072Z"
   },
   {
    "duration": 11,
    "start_time": "2023-07-28T17:53:14.082Z"
   },
   {
    "duration": 20,
    "start_time": "2023-07-28T17:53:14.096Z"
   },
   {
    "duration": 56,
    "start_time": "2023-07-28T17:53:14.118Z"
   },
   {
    "duration": 13,
    "start_time": "2023-07-28T17:53:14.176Z"
   },
   {
    "duration": 15,
    "start_time": "2023-07-28T17:53:14.191Z"
   },
   {
    "duration": 55,
    "start_time": "2023-07-28T17:53:14.209Z"
   },
   {
    "duration": 11,
    "start_time": "2023-07-28T17:53:14.266Z"
   },
   {
    "duration": 14,
    "start_time": "2023-07-28T17:53:14.279Z"
   },
   {
    "duration": 20,
    "start_time": "2023-07-28T17:53:14.295Z"
   },
   {
    "duration": 11,
    "start_time": "2023-07-28T17:53:14.317Z"
   },
   {
    "duration": 18,
    "start_time": "2023-07-28T17:53:14.361Z"
   },
   {
    "duration": 17,
    "start_time": "2023-07-28T17:53:14.381Z"
   },
   {
    "duration": 8,
    "start_time": "2023-07-28T17:53:14.399Z"
   },
   {
    "duration": 522,
    "start_time": "2023-07-28T18:25:57.749Z"
   },
   {
    "duration": 24,
    "start_time": "2023-07-28T18:25:58.273Z"
   },
   {
    "duration": 16,
    "start_time": "2023-07-28T18:25:58.298Z"
   },
   {
    "duration": 10,
    "start_time": "2023-07-28T18:25:58.316Z"
   },
   {
    "duration": 59,
    "start_time": "2023-07-28T18:25:58.329Z"
   },
   {
    "duration": 4,
    "start_time": "2023-07-28T18:25:58.389Z"
   },
   {
    "duration": 13,
    "start_time": "2023-07-28T18:25:58.395Z"
   },
   {
    "duration": 5,
    "start_time": "2023-07-28T18:25:58.410Z"
   },
   {
    "duration": 8,
    "start_time": "2023-07-28T18:25:58.417Z"
   },
   {
    "duration": 8,
    "start_time": "2023-07-28T18:25:58.458Z"
   },
   {
    "duration": 37,
    "start_time": "2023-07-28T18:25:58.468Z"
   },
   {
    "duration": 11,
    "start_time": "2023-07-28T18:25:58.506Z"
   },
   {
    "duration": 15,
    "start_time": "2023-07-28T18:25:58.519Z"
   },
   {
    "duration": 30,
    "start_time": "2023-07-28T18:25:58.537Z"
   },
   {
    "duration": 21,
    "start_time": "2023-07-28T18:25:58.568Z"
   },
   {
    "duration": 22,
    "start_time": "2023-07-28T18:25:58.591Z"
   },
   {
    "duration": 5,
    "start_time": "2023-07-28T18:25:58.617Z"
   },
   {
    "duration": 20,
    "start_time": "2023-07-28T18:25:58.624Z"
   },
   {
    "duration": 26,
    "start_time": "2023-07-28T18:25:58.658Z"
   },
   {
    "duration": 7,
    "start_time": "2023-07-28T18:25:58.685Z"
   },
   {
    "duration": 19,
    "start_time": "2023-07-28T18:25:58.695Z"
   },
   {
    "duration": 17,
    "start_time": "2023-07-28T18:25:58.716Z"
   },
   {
    "duration": 21,
    "start_time": "2023-07-28T18:25:58.735Z"
   },
   {
    "duration": 9,
    "start_time": "2023-07-28T18:25:58.758Z"
   },
   {
    "duration": 13,
    "start_time": "2023-07-28T18:25:58.769Z"
   },
   {
    "duration": 18,
    "start_time": "2023-07-28T18:25:58.783Z"
   },
   {
    "duration": 8,
    "start_time": "2023-07-28T18:25:58.802Z"
   },
   {
    "duration": 17,
    "start_time": "2023-07-28T18:25:58.811Z"
   },
   {
    "duration": 17,
    "start_time": "2023-07-28T18:25:58.860Z"
   },
   {
    "duration": 15,
    "start_time": "2023-07-28T18:25:58.879Z"
   },
   {
    "duration": 39,
    "start_time": "2023-07-28T18:25:58.896Z"
   },
   {
    "duration": 28,
    "start_time": "2023-07-28T18:25:58.937Z"
   },
   {
    "duration": 9,
    "start_time": "2023-07-28T18:25:58.966Z"
   },
   {
    "duration": 448,
    "start_time": "2023-07-28T18:55:14.110Z"
   },
   {
    "duration": 24,
    "start_time": "2023-07-28T18:55:14.560Z"
   },
   {
    "duration": 15,
    "start_time": "2023-07-28T18:55:14.585Z"
   },
   {
    "duration": 9,
    "start_time": "2023-07-28T18:55:14.601Z"
   },
   {
    "duration": 59,
    "start_time": "2023-07-28T18:55:14.613Z"
   },
   {
    "duration": 4,
    "start_time": "2023-07-28T18:55:14.673Z"
   },
   {
    "duration": 16,
    "start_time": "2023-07-28T18:55:14.678Z"
   },
   {
    "duration": 9,
    "start_time": "2023-07-28T18:55:14.696Z"
   },
   {
    "duration": 12,
    "start_time": "2023-07-28T18:55:14.706Z"
   },
   {
    "duration": 5,
    "start_time": "2023-07-28T18:55:14.719Z"
   },
   {
    "duration": 55,
    "start_time": "2023-07-28T18:55:14.725Z"
   },
   {
    "duration": 9,
    "start_time": "2023-07-28T18:55:14.782Z"
   },
   {
    "duration": 4,
    "start_time": "2023-07-28T18:55:14.793Z"
   },
   {
    "duration": 13,
    "start_time": "2023-07-28T18:55:14.799Z"
   },
   {
    "duration": 19,
    "start_time": "2023-07-28T18:55:14.814Z"
   },
   {
    "duration": 41,
    "start_time": "2023-07-28T18:55:14.835Z"
   },
   {
    "duration": 4,
    "start_time": "2023-07-28T18:55:14.878Z"
   },
   {
    "duration": 18,
    "start_time": "2023-07-28T18:55:14.884Z"
   },
   {
    "duration": 12,
    "start_time": "2023-07-28T18:55:14.904Z"
   },
   {
    "duration": 18,
    "start_time": "2023-07-28T18:55:14.918Z"
   },
   {
    "duration": 29,
    "start_time": "2023-07-28T18:55:14.938Z"
   },
   {
    "duration": 12,
    "start_time": "2023-07-28T18:55:14.969Z"
   },
   {
    "duration": 34,
    "start_time": "2023-07-28T18:55:14.983Z"
   },
   {
    "duration": 47,
    "start_time": "2023-07-28T18:55:15.018Z"
   },
   {
    "duration": 38,
    "start_time": "2023-07-28T18:55:15.066Z"
   },
   {
    "duration": 17,
    "start_time": "2023-07-28T18:55:15.106Z"
   },
   {
    "duration": 8,
    "start_time": "2023-07-28T18:55:15.125Z"
   },
   {
    "duration": 15,
    "start_time": "2023-07-28T18:55:15.135Z"
   },
   {
    "duration": 21,
    "start_time": "2023-07-28T18:55:15.152Z"
   },
   {
    "duration": 8,
    "start_time": "2023-07-28T18:55:15.175Z"
   },
   {
    "duration": 18,
    "start_time": "2023-07-28T18:55:15.185Z"
   },
   {
    "duration": 18,
    "start_time": "2023-07-28T18:55:15.205Z"
   },
   {
    "duration": 36,
    "start_time": "2023-07-28T18:55:15.225Z"
   },
   {
    "duration": 1066,
    "start_time": "2023-07-29T06:13:39.219Z"
   },
   {
    "duration": 21,
    "start_time": "2023-07-29T06:13:40.287Z"
   },
   {
    "duration": 13,
    "start_time": "2023-07-29T06:13:40.310Z"
   },
   {
    "duration": 9,
    "start_time": "2023-07-29T06:13:40.325Z"
   },
   {
    "duration": 28,
    "start_time": "2023-07-29T06:13:40.336Z"
   },
   {
    "duration": 3,
    "start_time": "2023-07-29T06:13:40.366Z"
   },
   {
    "duration": 29,
    "start_time": "2023-07-29T06:13:40.371Z"
   },
   {
    "duration": 4,
    "start_time": "2023-07-29T06:13:40.402Z"
   },
   {
    "duration": 10,
    "start_time": "2023-07-29T06:13:40.407Z"
   },
   {
    "duration": 4,
    "start_time": "2023-07-29T06:13:40.420Z"
   },
   {
    "duration": 30,
    "start_time": "2023-07-29T06:13:40.425Z"
   },
   {
    "duration": 9,
    "start_time": "2023-07-29T06:13:40.457Z"
   },
   {
    "duration": 32,
    "start_time": "2023-07-29T06:13:40.468Z"
   },
   {
    "duration": 11,
    "start_time": "2023-07-29T06:13:40.502Z"
   },
   {
    "duration": 20,
    "start_time": "2023-07-29T06:13:40.514Z"
   },
   {
    "duration": 16,
    "start_time": "2023-07-29T06:13:40.535Z"
   },
   {
    "duration": 4,
    "start_time": "2023-07-29T06:13:40.552Z"
   },
   {
    "duration": 11,
    "start_time": "2023-07-29T06:13:40.557Z"
   },
   {
    "duration": 30,
    "start_time": "2023-07-29T06:13:40.570Z"
   },
   {
    "duration": 4,
    "start_time": "2023-07-29T06:13:40.602Z"
   },
   {
    "duration": 14,
    "start_time": "2023-07-29T06:13:40.608Z"
   },
   {
    "duration": 15,
    "start_time": "2023-07-29T06:13:40.623Z"
   },
   {
    "duration": 19,
    "start_time": "2023-07-29T06:13:40.640Z"
   },
   {
    "duration": 8,
    "start_time": "2023-07-29T06:13:40.661Z"
   },
   {
    "duration": 38,
    "start_time": "2023-07-29T06:13:40.671Z"
   },
   {
    "duration": 16,
    "start_time": "2023-07-29T06:13:40.711Z"
   },
   {
    "duration": 8,
    "start_time": "2023-07-29T06:13:40.728Z"
   },
   {
    "duration": 13,
    "start_time": "2023-07-29T06:13:40.739Z"
   },
   {
    "duration": 15,
    "start_time": "2023-07-29T06:13:40.753Z"
   },
   {
    "duration": 34,
    "start_time": "2023-07-29T06:13:40.769Z"
   },
   {
    "duration": 13,
    "start_time": "2023-07-29T06:13:40.805Z"
   },
   {
    "duration": 16,
    "start_time": "2023-07-29T06:13:40.819Z"
   },
   {
    "duration": 16,
    "start_time": "2023-07-29T06:13:40.836Z"
   },
   {
    "duration": 12,
    "start_time": "2023-07-29T06:16:04.699Z"
   },
   {
    "duration": 82,
    "start_time": "2023-07-29T06:27:09.301Z"
   },
   {
    "duration": 846,
    "start_time": "2023-07-29T15:29:58.844Z"
   },
   {
    "duration": 26,
    "start_time": "2023-07-29T15:29:59.692Z"
   },
   {
    "duration": 17,
    "start_time": "2023-07-29T15:29:59.720Z"
   },
   {
    "duration": 11,
    "start_time": "2023-07-29T15:29:59.739Z"
   },
   {
    "duration": 57,
    "start_time": "2023-07-29T15:29:59.753Z"
   },
   {
    "duration": 5,
    "start_time": "2023-07-29T15:29:59.811Z"
   },
   {
    "duration": 13,
    "start_time": "2023-07-29T15:29:59.818Z"
   },
   {
    "duration": 13,
    "start_time": "2023-07-29T15:29:59.832Z"
   },
   {
    "duration": 10,
    "start_time": "2023-07-29T15:29:59.846Z"
   },
   {
    "duration": 21,
    "start_time": "2023-07-29T15:29:59.878Z"
   },
   {
    "duration": 38,
    "start_time": "2023-07-29T15:29:59.900Z"
   },
   {
    "duration": 10,
    "start_time": "2023-07-29T15:29:59.940Z"
   },
   {
    "duration": 5,
    "start_time": "2023-07-29T15:29:59.952Z"
   },
   {
    "duration": 15,
    "start_time": "2023-07-29T15:29:59.960Z"
   },
   {
    "duration": 65,
    "start_time": "2023-07-29T15:29:59.977Z"
   },
   {
    "duration": 40,
    "start_time": "2023-07-29T15:30:00.045Z"
   },
   {
    "duration": 22,
    "start_time": "2023-07-29T15:30:00.087Z"
   },
   {
    "duration": 29,
    "start_time": "2023-07-29T15:30:00.111Z"
   },
   {
    "duration": 20,
    "start_time": "2023-07-29T15:30:00.142Z"
   },
   {
    "duration": 45,
    "start_time": "2023-07-29T15:30:00.164Z"
   },
   {
    "duration": 36,
    "start_time": "2023-07-29T15:30:00.211Z"
   },
   {
    "duration": 114,
    "start_time": "2023-07-29T15:30:00.249Z"
   },
   {
    "duration": 54,
    "start_time": "2023-07-29T15:30:00.364Z"
   },
   {
    "duration": 61,
    "start_time": "2023-07-29T15:30:00.420Z"
   },
   {
    "duration": 126,
    "start_time": "2023-07-29T15:30:00.483Z"
   },
   {
    "duration": 180,
    "start_time": "2023-07-29T15:30:00.611Z"
   },
   {
    "duration": 63,
    "start_time": "2023-07-29T15:30:00.795Z"
   },
   {
    "duration": 80,
    "start_time": "2023-07-29T15:30:00.860Z"
   },
   {
    "duration": 77,
    "start_time": "2023-07-29T15:30:00.942Z"
   },
   {
    "duration": 32,
    "start_time": "2023-07-29T15:30:01.021Z"
   },
   {
    "duration": 64,
    "start_time": "2023-07-29T15:30:01.055Z"
   },
   {
    "duration": 53,
    "start_time": "2023-07-29T15:30:01.121Z"
   },
   {
    "duration": 34,
    "start_time": "2023-07-29T15:30:01.182Z"
   },
   {
    "duration": 706,
    "start_time": "2023-07-30T11:45:59.189Z"
   },
   {
    "duration": 19,
    "start_time": "2023-07-30T11:45:59.897Z"
   },
   {
    "duration": 28,
    "start_time": "2023-07-30T11:45:59.917Z"
   },
   {
    "duration": 8,
    "start_time": "2023-07-30T11:45:59.947Z"
   },
   {
    "duration": 32,
    "start_time": "2023-07-30T11:45:59.957Z"
   },
   {
    "duration": 3,
    "start_time": "2023-07-30T11:45:59.990Z"
   },
   {
    "duration": 50,
    "start_time": "2023-07-30T11:45:59.994Z"
   },
   {
    "duration": 29,
    "start_time": "2023-07-30T11:46:00.046Z"
   },
   {
    "duration": 32,
    "start_time": "2023-07-30T11:46:00.077Z"
   },
   {
    "duration": 30,
    "start_time": "2023-07-30T11:46:00.111Z"
   },
   {
    "duration": 61,
    "start_time": "2023-07-30T11:46:00.143Z"
   },
   {
    "duration": 19,
    "start_time": "2023-07-30T11:46:00.206Z"
   },
   {
    "duration": 59,
    "start_time": "2023-07-30T11:46:00.226Z"
   },
   {
    "duration": 50,
    "start_time": "2023-07-30T11:46:00.288Z"
   },
   {
    "duration": 58,
    "start_time": "2023-07-30T11:46:00.340Z"
   },
   {
    "duration": 58,
    "start_time": "2023-07-30T11:46:00.399Z"
   },
   {
    "duration": 43,
    "start_time": "2023-07-30T11:46:00.459Z"
   },
   {
    "duration": 204,
    "start_time": "2023-07-30T11:46:00.503Z"
   },
   {
    "duration": 35,
    "start_time": "2023-07-30T11:46:00.708Z"
   },
   {
    "duration": 35,
    "start_time": "2023-07-30T11:46:00.744Z"
   },
   {
    "duration": 46,
    "start_time": "2023-07-30T11:46:00.781Z"
   },
   {
    "duration": 41,
    "start_time": "2023-07-30T11:46:00.829Z"
   },
   {
    "duration": 48,
    "start_time": "2023-07-30T11:46:00.872Z"
   },
   {
    "duration": 26,
    "start_time": "2023-07-30T11:46:00.922Z"
   },
   {
    "duration": 54,
    "start_time": "2023-07-30T11:46:00.949Z"
   },
   {
    "duration": 51,
    "start_time": "2023-07-30T11:46:01.004Z"
   },
   {
    "duration": 23,
    "start_time": "2023-07-30T11:46:01.056Z"
   },
   {
    "duration": 42,
    "start_time": "2023-07-30T11:46:01.080Z"
   },
   {
    "duration": 26,
    "start_time": "2023-07-30T11:46:01.123Z"
   },
   {
    "duration": 10,
    "start_time": "2023-07-30T11:46:01.150Z"
   },
   {
    "duration": 38,
    "start_time": "2023-07-30T11:46:01.162Z"
   },
   {
    "duration": 22,
    "start_time": "2023-07-30T11:46:01.201Z"
   },
   {
    "duration": 7,
    "start_time": "2023-07-30T11:46:01.225Z"
   },
   {
    "duration": 22,
    "start_time": "2023-07-30T11:48:34.997Z"
   },
   {
    "duration": 11,
    "start_time": "2023-07-30T11:49:14.784Z"
   },
   {
    "duration": 18,
    "start_time": "2023-07-30T13:12:03.865Z"
   },
   {
    "duration": 119,
    "start_time": "2023-07-30T13:15:42.168Z"
   },
   {
    "duration": 110,
    "start_time": "2023-07-30T13:27:49.880Z"
   },
   {
    "duration": 447,
    "start_time": "2023-07-30T13:28:09.397Z"
   },
   {
    "duration": 19,
    "start_time": "2023-07-30T13:28:09.845Z"
   },
   {
    "duration": 15,
    "start_time": "2023-07-30T13:28:09.865Z"
   },
   {
    "duration": 7,
    "start_time": "2023-07-30T13:28:09.881Z"
   },
   {
    "duration": 36,
    "start_time": "2023-07-30T13:28:09.890Z"
   },
   {
    "duration": 3,
    "start_time": "2023-07-30T13:28:09.927Z"
   },
   {
    "duration": 15,
    "start_time": "2023-07-30T13:28:09.931Z"
   },
   {
    "duration": 10,
    "start_time": "2023-07-30T13:28:09.947Z"
   },
   {
    "duration": 16,
    "start_time": "2023-07-30T13:28:09.958Z"
   },
   {
    "duration": 4,
    "start_time": "2023-07-30T13:28:09.977Z"
   },
   {
    "duration": 34,
    "start_time": "2023-07-30T13:28:09.982Z"
   },
   {
    "duration": 10,
    "start_time": "2023-07-30T13:28:10.018Z"
   },
   {
    "duration": 8,
    "start_time": "2023-07-30T13:28:10.029Z"
   },
   {
    "duration": 14,
    "start_time": "2023-07-30T13:28:10.039Z"
   },
   {
    "duration": 22,
    "start_time": "2023-07-30T13:28:10.055Z"
   },
   {
    "duration": 26,
    "start_time": "2023-07-30T13:28:10.078Z"
   },
   {
    "duration": 4,
    "start_time": "2023-07-30T13:28:10.105Z"
   },
   {
    "duration": 15,
    "start_time": "2023-07-30T13:28:10.110Z"
   },
   {
    "duration": 6,
    "start_time": "2023-07-30T13:28:10.127Z"
   },
   {
    "duration": 15,
    "start_time": "2023-07-30T13:28:10.135Z"
   },
   {
    "duration": 11,
    "start_time": "2023-07-30T13:28:10.151Z"
   },
   {
    "duration": 13,
    "start_time": "2023-07-30T13:28:10.163Z"
   },
   {
    "duration": 30,
    "start_time": "2023-07-30T13:28:10.177Z"
   },
   {
    "duration": 10,
    "start_time": "2023-07-30T13:28:10.209Z"
   },
   {
    "duration": 13,
    "start_time": "2023-07-30T13:28:10.221Z"
   },
   {
    "duration": 121,
    "start_time": "2023-07-30T13:28:10.236Z"
   },
   {
    "duration": 0,
    "start_time": "2023-07-30T13:28:10.358Z"
   },
   {
    "duration": 0,
    "start_time": "2023-07-30T13:28:10.360Z"
   },
   {
    "duration": 0,
    "start_time": "2023-07-30T13:28:10.360Z"
   },
   {
    "duration": 0,
    "start_time": "2023-07-30T13:28:10.362Z"
   },
   {
    "duration": 0,
    "start_time": "2023-07-30T13:28:10.363Z"
   },
   {
    "duration": 0,
    "start_time": "2023-07-30T13:28:10.364Z"
   },
   {
    "duration": 0,
    "start_time": "2023-07-30T13:28:10.365Z"
   },
   {
    "duration": 100,
    "start_time": "2023-07-30T13:29:25.348Z"
   },
   {
    "duration": 36,
    "start_time": "2023-07-30T13:29:42.811Z"
   },
   {
    "duration": 11,
    "start_time": "2023-07-30T13:30:06.764Z"
   },
   {
    "duration": 10,
    "start_time": "2023-07-30T14:18:15.648Z"
   },
   {
    "duration": 27,
    "start_time": "2023-07-30T14:18:41.555Z"
   },
   {
    "duration": 10,
    "start_time": "2023-07-30T14:19:09.113Z"
   },
   {
    "duration": 11,
    "start_time": "2023-07-30T14:20:54.481Z"
   },
   {
    "duration": 23,
    "start_time": "2023-07-30T14:21:02.058Z"
   },
   {
    "duration": 29,
    "start_time": "2023-07-30T17:10:51.331Z"
   },
   {
    "duration": 12,
    "start_time": "2023-07-30T17:11:23.531Z"
   },
   {
    "duration": 78,
    "start_time": "2023-07-30T17:13:13.441Z"
   },
   {
    "duration": 465,
    "start_time": "2023-07-30T17:15:32.873Z"
   },
   {
    "duration": 20,
    "start_time": "2023-07-30T17:15:33.340Z"
   },
   {
    "duration": 13,
    "start_time": "2023-07-30T17:15:33.361Z"
   },
   {
    "duration": 7,
    "start_time": "2023-07-30T17:15:33.376Z"
   },
   {
    "duration": 54,
    "start_time": "2023-07-30T17:15:33.385Z"
   },
   {
    "duration": 3,
    "start_time": "2023-07-30T17:15:33.440Z"
   },
   {
    "duration": 10,
    "start_time": "2023-07-30T17:15:33.444Z"
   },
   {
    "duration": 4,
    "start_time": "2023-07-30T17:15:33.455Z"
   },
   {
    "duration": 14,
    "start_time": "2023-07-30T17:15:33.460Z"
   },
   {
    "duration": 4,
    "start_time": "2023-07-30T17:15:33.476Z"
   },
   {
    "duration": 43,
    "start_time": "2023-07-30T17:15:33.481Z"
   },
   {
    "duration": 9,
    "start_time": "2023-07-30T17:15:33.526Z"
   },
   {
    "duration": 8,
    "start_time": "2023-07-30T17:15:33.536Z"
   },
   {
    "duration": 11,
    "start_time": "2023-07-30T17:15:33.545Z"
   },
   {
    "duration": 17,
    "start_time": "2023-07-30T17:15:33.557Z"
   },
   {
    "duration": 25,
    "start_time": "2023-07-30T17:15:33.575Z"
   },
   {
    "duration": 3,
    "start_time": "2023-07-30T17:15:33.601Z"
   },
   {
    "duration": 27,
    "start_time": "2023-07-30T17:15:33.605Z"
   },
   {
    "duration": 5,
    "start_time": "2023-07-30T17:15:33.633Z"
   },
   {
    "duration": 10,
    "start_time": "2023-07-30T17:15:33.639Z"
   },
   {
    "duration": 10,
    "start_time": "2023-07-30T17:15:33.650Z"
   },
   {
    "duration": 13,
    "start_time": "2023-07-30T17:15:33.662Z"
   },
   {
    "duration": 32,
    "start_time": "2023-07-30T17:15:33.676Z"
   },
   {
    "duration": 10,
    "start_time": "2023-07-30T17:15:33.709Z"
   },
   {
    "duration": 48,
    "start_time": "2023-07-30T17:15:33.720Z"
   },
   {
    "duration": 70,
    "start_time": "2023-07-30T17:15:33.770Z"
   },
   {
    "duration": 10,
    "start_time": "2023-07-30T17:15:33.841Z"
   },
   {
    "duration": 46,
    "start_time": "2023-07-30T17:15:33.853Z"
   },
   {
    "duration": 28,
    "start_time": "2023-07-30T17:15:33.901Z"
   },
   {
    "duration": 11,
    "start_time": "2023-07-30T17:15:33.930Z"
   },
   {
    "duration": 36,
    "start_time": "2023-07-30T17:15:33.942Z"
   },
   {
    "duration": 38,
    "start_time": "2023-07-30T17:15:33.980Z"
   },
   {
    "duration": 26,
    "start_time": "2023-07-30T17:15:34.019Z"
   },
   {
    "duration": 850,
    "start_time": "2023-07-31T17:21:37.434Z"
   },
   {
    "duration": 37,
    "start_time": "2023-07-31T17:21:38.286Z"
   },
   {
    "duration": 21,
    "start_time": "2023-07-31T17:21:38.325Z"
   },
   {
    "duration": 21,
    "start_time": "2023-07-31T17:21:38.349Z"
   },
   {
    "duration": 53,
    "start_time": "2023-07-31T17:21:38.373Z"
   },
   {
    "duration": 4,
    "start_time": "2023-07-31T17:21:38.428Z"
   },
   {
    "duration": 14,
    "start_time": "2023-07-31T17:21:38.435Z"
   },
   {
    "duration": 27,
    "start_time": "2023-07-31T17:21:38.451Z"
   },
   {
    "duration": 33,
    "start_time": "2023-07-31T17:21:38.480Z"
   },
   {
    "duration": 11,
    "start_time": "2023-07-31T17:21:38.515Z"
   },
   {
    "duration": 68,
    "start_time": "2023-07-31T17:21:38.528Z"
   },
   {
    "duration": 11,
    "start_time": "2023-07-31T17:21:38.598Z"
   },
   {
    "duration": 12,
    "start_time": "2023-07-31T17:21:38.611Z"
   },
   {
    "duration": 51,
    "start_time": "2023-07-31T17:21:38.626Z"
   },
   {
    "duration": 44,
    "start_time": "2023-07-31T17:21:38.679Z"
   },
   {
    "duration": 52,
    "start_time": "2023-07-31T17:21:38.726Z"
   },
   {
    "duration": 34,
    "start_time": "2023-07-31T17:21:38.780Z"
   },
   {
    "duration": 79,
    "start_time": "2023-07-31T17:21:38.816Z"
   },
   {
    "duration": 16,
    "start_time": "2023-07-31T17:21:38.897Z"
   },
   {
    "duration": 26,
    "start_time": "2023-07-31T17:21:38.914Z"
   },
   {
    "duration": 51,
    "start_time": "2023-07-31T17:21:38.942Z"
   },
   {
    "duration": 20,
    "start_time": "2023-07-31T17:21:38.994Z"
   },
   {
    "duration": 44,
    "start_time": "2023-07-31T17:21:39.015Z"
   },
   {
    "duration": 14,
    "start_time": "2023-07-31T17:21:39.061Z"
   },
   {
    "duration": 27,
    "start_time": "2023-07-31T17:21:39.077Z"
   },
   {
    "duration": 30,
    "start_time": "2023-07-31T17:21:39.106Z"
   },
   {
    "duration": 13,
    "start_time": "2023-07-31T17:21:39.138Z"
   },
   {
    "duration": 60,
    "start_time": "2023-07-31T17:21:39.153Z"
   },
   {
    "duration": 59,
    "start_time": "2023-07-31T17:21:39.215Z"
   },
   {
    "duration": 23,
    "start_time": "2023-07-31T17:21:39.275Z"
   },
   {
    "duration": 41,
    "start_time": "2023-07-31T17:21:39.301Z"
   },
   {
    "duration": 43,
    "start_time": "2023-07-31T17:21:39.344Z"
   },
   {
    "duration": 14,
    "start_time": "2023-07-31T17:21:39.390Z"
   }
  ],
  "colab": {
   "provenance": []
  },
  "kernelspec": {
   "display_name": "Python 3 (ipykernel)",
   "language": "python",
   "name": "python3"
  },
  "language_info": {
   "codemirror_mode": {
    "name": "ipython",
    "version": 3
   },
   "file_extension": ".py",
   "mimetype": "text/x-python",
   "name": "python",
   "nbconvert_exporter": "python",
   "pygments_lexer": "ipython3",
   "version": "3.9.5"
  },
  "toc": {
   "base_numbering": 1,
   "nav_menu": {},
   "number_sections": true,
   "sideBar": true,
   "skip_h1_title": true,
   "title_cell": "Table of Contents",
   "title_sidebar": "Contents",
   "toc_cell": false,
   "toc_position": {},
   "toc_section_display": true,
   "toc_window_display": false
  }
 },
 "nbformat": 4,
 "nbformat_minor": 5
}
